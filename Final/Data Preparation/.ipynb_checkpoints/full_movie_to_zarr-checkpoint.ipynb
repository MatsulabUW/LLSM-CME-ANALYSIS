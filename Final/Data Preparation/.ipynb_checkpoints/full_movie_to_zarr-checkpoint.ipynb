{
 "cells": [
  {
   "cell_type": "code",
   "execution_count": null,
   "id": "1d7df400-7058-4838-b907-20b10dd2e8a6",
   "metadata": {},
   "outputs": [],
   "source": [
    "%matplotlib inline\n",
    "import matplotlib.pyplot as plt\n",
    "import numpy as np\n",
    "import pandas as pd\n",
    "from aicsimageio import AICSImage\n",
    "import time\n",
    "import zarr\n",
    "import os \n",
    "import sys"
   ]
  },
  {
   "cell_type": "markdown",
   "id": "5e7f5516-eb0d-4a25-919b-27e535eed39f",
   "metadata": {},
   "source": [
    "### Do not change the code in the cell below"
   ]
  },
  {
   "cell_type": "code",
   "execution_count": null,
   "id": "fb2d3d38-293b-4b75-adf1-d134d3324e7a",
   "metadata": {},
   "outputs": [],
   "source": [
    "# This assumes that your notebook is inside the folder 'full movie', which is inside 'movie_data'\n",
    "base_dir = os.path.join(os.path.dirname(os.path.abspath(\"__file__\")), '..', 'movie_data')\n",
    "\n",
    "# Define the file directory and name\n",
    "input_file_directory = 'full_movie'\n",
    "save_file_directory = 'zarr_file'\n",
    "save_full_path = os.path.join(base_dir, save_file_directory)\n",
    "\n",
    "zarr_directory = 'zarr_file/all_channels_data'\n",
    "zarr_full_path = os.path.join(base_dir, zarr_directory)"
   ]
  },
  {
   "cell_type": "markdown",
   "id": "2a5c54cc-d567-41db-93ea-a5e68b9e7143",
   "metadata": {},
   "source": [
    "# Follow the instructions to properly run the notebook \n",
    "1. Save the your full movie in tif format to the following directory **LLSM-CME-ANALYSIS/Final/movie_data/full_movie/**\n",
    "2. Movie must be in tif format \n",
    "3. Change the **input_file_name** below to match your movie name so it is loaded properly \n",
    " \n",
    " **Nothing else needs to be changed**\n",
    "\n",
    "\n"
   ]
  },
  {
   "cell_type": "code",
   "execution_count": null,
   "id": "86df7656-c059-43a0-a67e-8d0e87a0c921",
   "metadata": {},
   "outputs": [],
   "source": [
    "######## Change name of movie file here #######\n",
    "input_file_name = '20240729_MA3_Abhi410_65_510_202020_15um_OS_11_0-5min-01_processed-1.tif'\n",
    "print('Your file name is: ', input_file_name)"
   ]
  },
  {
   "cell_type": "code",
   "execution_count": null,
   "id": "2a18bb7d-dcf6-46e2-9791-4e93aff59af6",
   "metadata": {},
   "outputs": [],
   "source": [
    "# Full path construction\n",
    "input_full_path = os.path.join(base_dir, input_file_directory, input_file_name)\n",
    "\n",
    "# Load the file\n",
    "img = AICSImage(input_full_path)\n",
    "# Check which reader is being used\n",
    "print(type(img.reader))"
   ]
  },
  {
   "cell_type": "markdown",
   "id": "23861f21-8011-43e5-8652-7bce8ee37101",
   "metadata": {},
   "source": [
    "### Do not change the code in the cell below"
   ]
  },
  {
   "cell_type": "code",
   "execution_count": null,
   "id": "0d38cf1b-b323-49ef-b6fb-88a0d1e1d916",
   "metadata": {},
   "outputs": [],
   "source": [
    "dask_array = img.xarray_dask_data \n",
    "dask_array.name = 'all_channels_data'\n",
    "dask_array"
   ]
  },
  {
   "cell_type": "code",
   "execution_count": null,
   "id": "61940e64-2fe4-4939-9508-61e071cab803",
   "metadata": {},
   "outputs": [],
   "source": [
    "dask_array.attrs = []\n",
    "dask_array.to_zarr(store = save_full_path, mode = 'w', compute = True)  "
   ]
  },
  {
   "cell_type": "code",
   "execution_count": null,
   "id": "bc87e0f6-6f24-40b7-8e1f-422d52a76f89",
   "metadata": {},
   "outputs": [],
   "source": [
    "z2 = zarr.open(zarr_full_path, mode='r')\n",
    "z2.info"
   ]
  },
  {
   "cell_type": "code",
   "execution_count": null,
   "id": "147da69c-5344-4d3c-b7e5-36e3d715cb9f",
   "metadata": {},
   "outputs": [],
   "source": []
  }
 ],
 "metadata": {
  "kernelspec": {
   "display_name": "Python 3 (ipykernel)",
   "language": "python",
   "name": "python3"
  },
  "language_info": {
   "codemirror_mode": {
    "name": "ipython",
    "version": 3
   },
   "file_extension": ".py",
   "mimetype": "text/x-python",
   "name": "python",
   "nbconvert_exporter": "python",
   "pygments_lexer": "ipython3",
   "version": "3.12.3"
  }
 },
 "nbformat": 4,
 "nbformat_minor": 5
}
