{
 "cells": [
  {
   "cell_type": "markdown",
   "id": "12cbb82d-b87b-4ede-b907-7f7fcf325961",
   "metadata": {},
   "source": [
    "# Measure intensity for all channels based on coordinates from the tracked channel\n",
    "\n",
    "(Likely no parameters to change in this notebook.)"
   ]
  },
  {
   "cell_type": "code",
   "execution_count": 19,
   "id": "dbb18d9b-2add-413d-be6f-101d3c673e9b",
   "metadata": {},
   "outputs": [],
   "source": [
    "from os import path\n",
    "import pandas as pd\n",
    "from IPython.display import display\n",
    "import numpy as np \n",
    "import sys \n",
    "import time \n",
    "import zarr\n",
    "import glob\n",
    "import os\n",
    "import re\n",
    "import matplotlib.pyplot as plt\n",
    "\n",
    "sys.path.append('../src/')\n",
    "\n",
    "from extract_pixel_data import Extractor"
   ]
  },
  {
   "cell_type": "markdown",
   "id": "ad9384cc",
   "metadata": {},
   "source": [
    "Do not change the code in the cell below"
   ]
  },
  {
   "cell_type": "code",
   "execution_count": 20,
   "id": "e3c5b01d-f937-4cef-b7fc-5f3d1014bf2b",
   "metadata": {},
   "outputs": [],
   "source": [
    "# This assumes that your notebook is inside 'Jupyter Notebooks', which is at the same level as 'movie_data'\n",
    "base_dir = os.path.join(os.path.dirname(os.path.abspath(\"__file__\")), '..', 'movie_data')\n",
    "\n",
    "zarr_directory = 'zarr_file/all_channels_data'\n",
    "zarr_full_path = os.path.join(base_dir, zarr_directory)\n",
    "\n",
    "input_directory = os.path.join(base_dir,'datasets')\n",
    "\n",
    "# in the datasets directory, list pkl files that start with 'all_detections_channel'\n",
    "files = glob.glob(f'{input_directory}/track_df_c*_cleaned.pkl')\n",
    "\n",
    "# take the first file\n",
    "file = files[0]\n",
    "\n",
    "input_directory_full = os.path.join(input_directory, file)\n",
    "\n",
    "# find out which channel was detected\n",
    "match = re.search(r'track_df_c(\\d+)_cleaned.pkl', file)\n",
    "channel_detected = match.group(1)\n",
    "\n",
    "output_directory = 'datasets'\n",
    "output_file_name = 'track_df_cleaned_final_full.pkl'\n",
    "output_directory_full = os.path.join(base_dir,output_directory, output_file_name)"
   ]
  },
  {
   "cell_type": "code",
   "execution_count": 21,
   "id": "ab514a50-a2ea-462b-bc94-cdaad738239c",
   "metadata": {},
   "outputs": [],
   "source": [
    "track_df = pd.read_pickle(input_directory_full)\n",
    "# read the zarr file which contains the data of all three channels \n",
    "z = zarr.open(zarr_full_path, mode='r')"
   ]
  },
  {
   "cell_type": "markdown",
   "id": "b87a5283",
   "metadata": {},
   "source": [
    "The following parameters usually don't have to be adjusted, but you can adjust them based on the sizes of your spots\n"
   ]
  },
  {
   "cell_type": "code",
   "execution_count": 22,
   "id": "3b758ee5",
   "metadata": {},
   "outputs": [],
   "source": [
    "# radii for sum intensity (\"voxel sum\") calculation, in [z,y,x]. a radius of 2 will measure 5 pixels across\n",
    "radii_extractor = [4,2,2] \n",
    "\n",
    "# the radius (in pixels) of the shell for background subtraction\n",
    "# used in \"_voxel_sum_adjusted\" calculation\n",
    "background_radius_for_voxel_sum = [1,1,1] \n",
    "\n",
    "# number of CPUs used for parallel processing; this isn't currently used\n",
    "n_cores = -1\n"
   ]
  },
  {
   "cell_type": "markdown",
   "id": "3420f524",
   "metadata": {},
   "source": [
    "Optionally set an offset value in XY between channel 2 and 3"
   ]
  },
  {
   "cell_type": "code",
   "execution_count": 23,
   "id": "5f3b9637",
   "metadata": {},
   "outputs": [],
   "source": [
    "# If you see an offset between the cameras (channel 2 and 3), set that value here to correct for it.\n",
    "# For example, if channel 2 shows up 4 pixels to the right of channel 2, set offset_x_ch2vs3 to 4\n",
    "\n",
    "offset_x_ch2vs3 = 0\n",
    "offset_y_ch2vs3 = 0\n",
    "\n",
    "offset_ch2vs3 = [offset_y_ch2vs3, offset_x_ch2vs3]\n",
    "\n",
    "\n",
    "# this line reverses the offset if you detected channel 2\n",
    "if channel_detected == 2:\n",
    "    offset_ch3vs2 = [-offset_ch2vs3[0], -offset_ch2vs3[1]]\n",
    "else:\n",
    "    offset_ch3vs2 = [0,0]\n",
    "# if you don't know the offset, it will be estimated below"
   ]
  },
  {
   "cell_type": "markdown",
   "id": "f866f93c",
   "metadata": {},
   "source": [
    "Calculate intensities for three channels\n"
   ]
  },
  {
   "cell_type": "code",
   "execution_count": 24,
   "id": "658ea85c",
   "metadata": {},
   "outputs": [
    {
     "name": "stdout",
     "output_type": "stream",
     "text": [
      "Channel 1 done\n",
      "Channel 2 done\n",
      "Channel 3 done\n",
      "Track intensities saved, you can continue to the next notebook.\n"
     ]
    }
   ],
   "source": [
    "extractor = Extractor(z, dataframe = track_df, radii=radii_extractor, frame_col_name = 'frame', \n",
    "                      radi_col_name = ['sigma_z', 'sigma_y', 'sigma_x'], n_jobs = n_cores)\n",
    "\n",
    "channels_list = [1,2,3]\n",
    "\n",
    "for channel in channels_list:\n",
    "\n",
    "    offset = [0, 0]\n",
    "    # need to verify that this offset works in the right direction\n",
    "    if channel_detected == 2 and channel == 2:\n",
    "        offset = offset_ch3vs2\n",
    "\n",
    "    if channel_detected != 2 and channel == 2:\n",
    "        offset = offset_ch2vs3\n",
    "\n",
    "    col_names = ['mu_z', 'mu_y', 'mu_x']\n",
    "\n",
    "    # calculate mean, max, sum intensity around the track coordinates\n",
    "    peak_mean,peak_max,_,_,peak_loc,peak_sum = extractor.extract_pixels_data_fixed_bd(center_col_names = col_names, \n",
    "                                                        channel = channel, offset = offset)\n",
    "\n",
    "    # calculate background subtracted sum intensity: \"adjusted voxel sum\"\n",
    "    voxel_sum_array, _, adj_voxel_sum, adj_voxel_sum_vol  = extractor.voxel_sum_fixed_background(center_col_names = ['mu_z', 'mu_y', 'mu_x'], channel = channel,                                                                            \n",
    "        background_radius=background_radius_for_voxel_sum, offset=offset)\n",
    "\n",
    "    track_df[f'c{channel}_peak_mean']= peak_mean\n",
    "    track_df[f'c{channel}_peak_max'] = peak_max\n",
    "    track_df[f'c{channel}_voxel_sum'] = peak_sum\n",
    "    track_df[f'c{channel}_voxel_sum_adjusted'] = adj_voxel_sum\n",
    "    track_df[f'c{channel}_peak_x'] = [t[2] for t in peak_loc]\n",
    "    track_df[f'c{channel}_peak_y'] = [t[1] for t in peak_loc]\n",
    "    track_df[f'c{channel}_peak_z'] = [t[0] for t in peak_loc]\n",
    "    \n",
    "    print(f'Channel {channel} done')\n",
    "\n",
    "track_df.to_pickle(output_directory_full)\n",
    "print(f'Track intensities saved, you can continue to the next notebook.')\n",
    "# track_df.head()\n",
    "\n",
    "    \n"
   ]
  },
  {
   "cell_type": "markdown",
   "id": "152b60fc",
   "metadata": {},
   "source": [
    "Optionally use this cell to assess offset between channel 2 and channel 3 peak intensity\n"
   ]
  },
  {
   "cell_type": "code",
   "execution_count": 25,
   "id": "a70fad90",
   "metadata": {},
   "outputs": [
    {
     "name": "stdout",
     "output_type": "stream",
     "text": [
      "Median offset between channel 2 and channel 3 in x: 0\n",
      "Median offset between channel 2 and channel 3 in y: 0\n"
     ]
    },
    {
     "data": {
      "image/png": "[encoded data removed]",
      "text/plain": [
       "<Figure size 640x480 with 1 Axes>"
      ]
     },
     "metadata": {},
     "output_type": "display_data"
    }
   ],
   "source": [
    "difs_x = track_df['c2_peak_x'] - track_df['c3_peak_x']\n",
    "difs_x = difs_x[~np.isnan(difs_x)]\n",
    "offset_x_ch2vs3 = int(difs_x.median())\n",
    "\n",
    "difs_y = track_df['c2_peak_y'] - track_df['c3_peak_y']\n",
    "difs_y = difs_y[~np.isnan(difs_y)]\n",
    "offset_y_ch2vs3 = int(difs_y.median())\n",
    "\n",
    "plt.hist(difs_x, bins=20, alpha=0.5)\n",
    "plt.hist(difs_y, bins=20, alpha=0.5)\n",
    "plt.legend(['x', 'y'])\n",
    "\n",
    "plt.xlabel('Difference between channel 2 and channel 3 (pixels)')\n",
    "\n",
    "plt.title('Histogram of differences between channel 2 and channel 3')\n",
    "\n",
    "print(f'Median offset between channel 2 and channel 3 in x: {offset_x_ch2vs3}')\n",
    "print(f'Median offset between channel 2 and channel 3 in y: {offset_y_ch2vs3}')\n"
   ]
  },
  {
   "cell_type": "markdown",
   "id": "970b53e9",
   "metadata": {},
   "source": [
    "### If there is a systematic offset between the two channels, set those values in the above \"set offset\" cell and rerun the cells until here"
   ]
  },
  {
   "cell_type": "code",
   "execution_count": 26,
   "id": "ebe454b6",
   "metadata": {},
   "outputs": [
    {
     "data": {
      "image/png": "[encoded data removed]",
      "text/plain": [
       "<Figure size 640x480 with 1 Axes>"
      ]
     },
     "metadata": {},
     "output_type": "display_data"
    }
   ],
   "source": [
    "# plot intensity histograms for fun\n",
    "# change the 'c3_voxel_sum_adjusted' value to plot other intensity metrics\n",
    "\n",
    "plt.hist(track_df['c3_voxel_sum_adjusted'], bins=100, alpha=0.5, label='Channel 3')\n",
    "plt.hist(track_df['c2_voxel_sum_adjusted'], bins=100, alpha=0.5, label='Channel 2')\n",
    "plt.hist(track_df['c1_voxel_sum_adjusted'], bins=100, alpha=0.5, label='Channel 1')\n",
    "plt.legend()\n",
    "plt.title('Voxel sum adjusted')\n",
    "plt.xlabel('Voxel sum')\n",
    "plt.ylabel('Count')\n",
    "plt.xlim(-5000, 10000)\n",
    "plt.show()"
   ]
  },
  {
   "cell_type": "code",
   "execution_count": 27,
   "id": "3b32a53b-de84-4dba-8f42-96b29295cbf9",
   "metadata": {},
   "outputs": [],
   "source": [
    "# Extract information for channel 1\n",
    "# track_df['c1_gaussian_amp'] = channel1_gaussians_df['amplitude']\n",
    "# track_df['c1_mu_x'] = channel1_gaussians_df['mu_x']\n",
    "# track_df['c1_mu_y'] = channel1_gaussians_df['mu_y']\n",
    "# track_df['c1_mu_z'] = channel1_gaussians_df['mu_z']\n",
    "# track_df['c1_sigma_x'] = channel1_gaussians_df['sigma_x']\n",
    "# track_df['c1_sigma_y'] = channel1_gaussians_df['sigma_y']\n",
    "# track_df['c1_sigma_z'] = channel1_gaussians_df['sigma_z']\n",
    "\n",
    "# ### In the below steps dataframe is being cleaned to make column names consistent for next steps \n",
    "# ##Renaming columns to maintain data integrity \n",
    "# new_col_names = {\n",
    "#     'amplitude': 'c3_gaussian_amp', \n",
    "#     'mu_x': 'c3_mu_x', \n",
    "#     'mu_y': 'c3_mu_y', \n",
    "#     'mu_z': 'c3_mu_z', \n",
    "#     'sigma_x': 'c3_sigma_x', \n",
    "#     'sigma_y': 'c3_sigma_y', \n",
    "#     'sigma_z': 'c3_sigma_z', \n",
    "#     'c2_peak': 'c2_peak_amp', \n",
    "#     'c1_peak': 'c1_peak_amp'\n",
    "# }\n",
    "# track_df.rename(columns=new_col_names, inplace=True)"
   ]
  }
 ],
 "metadata": {
  "kernelspec": {
   "display_name": "Python 3",
   "language": "python",
   "name": "python3"
  },
  "language_info": {
   "codemirror_mode": {
    "name": "ipython",
    "version": 3
   },
   "file_extension": ".py",
   "mimetype": "text/x-python",
   "name": "python",
   "nbconvert_exporter": "python",
   "pygments_lexer": "ipython3",
   "version": "3.10.0"
  }
 },
 "nbformat": 4,
 "nbformat_minor": 5
}
