{
 "cells": [
  {
   "cell_type": "markdown",
   "id": "7699bd06-dc64-4aee-8802-d99882165dd1",
   "metadata": {},
   "source": [
    "# This is the first step in the pipeline\n",
    "### Spots are detected in this notebook. The input file is expected to be in the zarr format "
   ]
  },
  {
   "cell_type": "code",
   "execution_count": 36,
   "id": "62a4feae-de71-474c-a3b1-9d442d2a2fe6",
   "metadata": {},
   "outputs": [],
   "source": [
    "import pandas as pd\n",
    "import time\n",
    "import os\n",
    "import sys\n",
    "import zarr\n",
    "import napari \n",
    "import dask.array as da \n",
    "\n",
    "pythonPackagePath = os.path.abspath('../src/')\n",
    "sys.path.append(pythonPackagePath)\n",
    "from parallel import Detector\n",
    "from gaussian_visualization import visualize_3D_gaussians"
   ]
  },
  {
   "cell_type": "markdown",
   "id": "9ebdcb7e-0da4-4aee-a372-e2128ce2cfae",
   "metadata": {},
   "source": [
    "### Do not change the code in cell below "
   ]
  },
  {
   "cell_type": "code",
   "execution_count": 4,
   "id": "5690e846-bfa8-46ae-947f-64b537f09bc9",
   "metadata": {},
   "outputs": [],
   "source": [
    "# This assumes that your notebook is inside 'Jupyter Notebooks', which is at the same level as 'test_data'\n",
    "base_dir = os.path.join(os.path.dirname(os.path.abspath(\"__file__\")), '..', 'movie_data')\n",
    "# base_dir = os.path.join(os.path.dirname(os.path.abspath(\"__file__\")), '..', 'test_movie_1')\n",
    "\n",
    "zarr_directory = 'zarr_file/all_channels_data'\n",
    "zarr_full_path = os.path.join(base_dir, zarr_directory)\n",
    "\n",
    "save_directory = 'datasets'\n",
    "save_directory_full = os.path.join(base_dir, save_directory)"
   ]
  },
  {
   "cell_type": "markdown",
   "id": "b4fa8f87",
   "metadata": {},
   "source": [
    "## Follow the Instructions below to run through the notebook properly \n",
    "\n",
    "This notebook detects spots on your movie. The movie should be a zarr object; if it's not, run Final/Data Preparation/full_movie_to_zarr.ipynb\n",
    "\n",
    "**Parameters to adjust below** \n",
    "\n",
    "* **channel_to_detect**: Which channel will be tracked? This should be the channel with the longest tracks (i.e. AP2). Options are channel 1, 2, or 3.\n",
    "\n",
    "* **threshold_intensity**: What intensity value distinguishes background from signal? Open up a frame of the movie in Fiji or napari (at the end of this notebook) and mouse over different pixels to figure out this threshold value.\n",
    "\n",
    "* **all_frames**: When initially optimizing, set this to false and set number_frames_to_detect to 2, in order to run detection on only two time points. This will speed up diagnosing detection quality at the end of the notebook.\n",
    "\n",
    "Additional parameters for optimization:\n",
    "\n",
    "* **dist_between_spots**: this distance divided by 2 is the minimum distance that should exist between spots in pixels. For example if you set this to 10 then all spots within 5 pixels of the center of your spot will not be detected. \n",
    "* **sigma_estimations**: The expected radius of our spots, in pixels, as [spread_in_z, spread_in_y, spread_in_x]. You can measure the width of a spot in Fiji and divide by two.\n",
    "* **n_jobs**: The number of CPUs to use for detections. You can set it to -1 and it will use all of your machine's CPUs but one for processing. \n",
    "\n",
    "* **number_frames_to_detect**: the number of frames to process. This can be useful when you just want to test your parameters selected for the Detector object like spot_intensity, dist_between_spots and sigma_estimates. \n",
    "\n"
   ]
  },
  {
   "cell_type": "markdown",
   "id": "42ec841e",
   "metadata": {},
   "source": [
    "## Set all parameters in the below cell "
   ]
  },
  {
   "cell_type": "code",
   "execution_count": 5,
   "id": "39e1565c",
   "metadata": {},
   "outputs": [],
   "source": [
    "#refer to the above cell for explanation of each parameter \n",
    "channel_to_detect = 3 \n",
    "threshold_intensity = 180\n",
    "all_frames = True\n",
    "\n",
    "dist_between_spots = 10\n",
    "sigma_estimations = [4,2,2]\n",
    "n_jobs = -1\n",
    "number_frames_to_detect = 130     "
   ]
  },
  {
   "cell_type": "code",
   "execution_count": 6,
   "id": "2f8dc259-df31-401a-abd5-20a1e9c4e9a2",
   "metadata": {},
   "outputs": [
    {
     "name": "stdout",
     "output_type": "stream",
     "text": [
      "the number of frames are 130\n"
     ]
    },
    {
     "data": {
      "text/html": [
       "<table class=\"zarr-info\"><tbody><tr><th style=\"text-align: left\">Type</th><td style=\"text-align: left\">zarr.core.Array</td></tr><tr><th style=\"text-align: left\">Data type</th><td style=\"text-align: left\">uint16</td></tr><tr><th style=\"text-align: left\">Shape</th><td style=\"text-align: left\">(130, 3, 115, 2052, 340)</td></tr><tr><th style=\"text-align: left\">Chunk shape</th><td style=\"text-align: left\">(1, 1, 115, 2052, 340)</td></tr><tr><th style=\"text-align: left\">Order</th><td style=\"text-align: left\">C</td></tr><tr><th style=\"text-align: left\">Read-only</th><td style=\"text-align: left\">True</td></tr><tr><th style=\"text-align: left\">Compressor</th><td style=\"text-align: left\">Blosc(cname='lz4', clevel=5, shuffle=SHUFFLE, blocksize=0)</td></tr><tr><th style=\"text-align: left\">Store type</th><td style=\"text-align: left\">zarr.storage.DirectoryStore</td></tr><tr><th style=\"text-align: left\">No. bytes</th><td style=\"text-align: left\">62581896000 (58.3G)</td></tr><tr><th style=\"text-align: left\">No. bytes stored</th><td style=\"text-align: left\">13539472425 (12.6G)</td></tr><tr><th style=\"text-align: left\">Storage ratio</th><td style=\"text-align: left\">4.6</td></tr><tr><th style=\"text-align: left\">Chunks initialized</th><td style=\"text-align: left\">390/390</td></tr></tbody></table>"
      ],
      "text/plain": [
       "Type               : zarr.core.Array\n",
       "Data type          : uint16\n",
       "Shape              : (130, 3, 115, 2052, 340)\n",
       "Chunk shape        : (1, 1, 115, 2052, 340)\n",
       "Order              : C\n",
       "Read-only          : True\n",
       "Compressor         : Blosc(cname='lz4', clevel=5, shuffle=SHUFFLE, blocksize=0)\n",
       "Store type         : zarr.storage.DirectoryStore\n",
       "No. bytes          : 62581896000 (58.3G)\n",
       "No. bytes stored   : 13539472425 (12.6G)\n",
       "Storage ratio      : 4.6\n",
       "Chunks initialized : 390/390"
      ]
     },
     "execution_count": 6,
     "metadata": {},
     "output_type": "execute_result"
    }
   ],
   "source": [
    "#Import the zarr file by adding file path in read mode\n",
    "z2 = zarr.open(zarr_full_path, mode='r')\n",
    "frames = z2.shape[0]\n",
    "print(f'the number of frames are {frames}')\n",
    "z2.info"
   ]
  },
  {
   "cell_type": "markdown",
   "id": "48e9983d-8633-46d7-a59a-7885c93fbd1b",
   "metadata": {},
   "source": [
    "## In the below cell Detector object is initilized to perform detection. More details on the Detector object can be attained by the following line of code: \n",
    "**copy and paste in a new cell**\n",
    "\n",
    "?Detector"
   ]
  },
  {
   "cell_type": "code",
   "execution_count": 7,
   "id": "f9a03bc8-4326-4fb0-87c0-d3af7eb67e2f",
   "metadata": {},
   "outputs": [],
   "source": [
    "detector = Detector(zarr_obj = z2, \n",
    "                    save_directory = save_directory_full, \n",
    "                    spot_intensity = threshold_intensity, \n",
    "                    dist_between_spots = dist_between_spots, \n",
    "                    sigma_estimations = sigma_estimations, n_jobs = n_jobs, channel_to_detect = channel_to_detect)"
   ]
  },
  {
   "cell_type": "code",
   "execution_count": 8,
   "id": "9763ea65-4a6c-4061-8e42-29e84012bfb7",
   "metadata": {},
   "outputs": [
    {
     "name": "stderr",
     "output_type": "stream",
     "text": [
      "Processing frames:   1%|          | 1/130 [01:02<2:13:29, 62.09s/it]"
     ]
    },
    {
     "name": "stdout",
     "output_type": "stream",
     "text": [
      "the number of times the gaussian fitting worked was 5768 and the number of times the gaussian did not fit was 0\n",
      "the number of times the gaussian fitting worked was 5799 and the number of times the gaussian did not fit was 0\n"
     ]
    },
    {
     "name": "stderr",
     "output_type": "stream",
     "text": [
      "Processing frames:   2%|▏         | 3/130 [01:02<29:39, 14.01s/it]  "
     ]
    },
    {
     "name": "stdout",
     "output_type": "stream",
     "text": [
      "the number of times the gaussian fitting worked was 5900 and the number of times the gaussian did not fit was 0\n"
     ]
    },
    {
     "name": "stderr",
     "output_type": "stream",
     "text": [
      "Processing frames:   3%|▎         | 4/130 [01:02<18:07,  8.63s/it]"
     ]
    },
    {
     "name": "stdout",
     "output_type": "stream",
     "text": [
      "the number of times the gaussian fitting worked was 5807 and the number of times the gaussian did not fit was 0\n"
     ]
    },
    {
     "name": "stderr",
     "output_type": "stream",
     "text": [
      "Processing frames:   4%|▍         | 5/130 [01:03<11:44,  5.63s/it]"
     ]
    },
    {
     "name": "stdout",
     "output_type": "stream",
     "text": [
      "the number of times the gaussian fitting worked was 5881 and the number of times the gaussian did not fit was 0\n"
     ]
    },
    {
     "name": "stderr",
     "output_type": "stream",
     "text": [
      "Processing frames:   5%|▍         | 6/130 [01:03<07:48,  3.78s/it]"
     ]
    },
    {
     "name": "stdout",
     "output_type": "stream",
     "text": [
      "the number of times the gaussian fitting worked was 5878 and the number of times the gaussian did not fit was 0\n",
      "the number of times the gaussian fitting worked was 5890 and the number of times the gaussian did not fit was 0\n"
     ]
    },
    {
     "name": "stderr",
     "output_type": "stream",
     "text": [
      "Processing frames:   6%|▌         | 8/130 [01:03<04:08,  2.04s/it]"
     ]
    },
    {
     "name": "stdout",
     "output_type": "stream",
     "text": [
      "the number of times the gaussian fitting worked was 5968 and the number of times the gaussian did not fit was 0\n"
     ]
    },
    {
     "name": "stderr",
     "output_type": "stream",
     "text": [
      "Processing frames:   7%|▋         | 9/130 [01:03<03:09,  1.57s/it]"
     ]
    },
    {
     "name": "stdout",
     "output_type": "stream",
     "text": [
      "the number of times the gaussian fitting worked was 5966 and the number of times the gaussian did not fit was 0\n",
      "the number of times the gaussian fitting worked was 6080 and the number of times the gaussian did not fit was 0\n"
     ]
    },
    {
     "name": "stderr",
     "output_type": "stream",
     "text": [
      "Processing frames:   8%|▊         | 10/130 [01:04<02:25,  1.21s/it]"
     ]
    },
    {
     "name": "stdout",
     "output_type": "stream",
     "text": [
      "the number of times the gaussian fitting worked was 5927 and the number of times the gaussian did not fit was 0\n",
      "the number of times the gaussian fitting worked was 6067 and the number of times the gaussian did not fit was 0\n"
     ]
    },
    {
     "name": "stderr",
     "output_type": "stream",
     "text": [
      "Processing frames:  10%|█         | 13/130 [01:05<01:20,  1.46it/s]"
     ]
    },
    {
     "name": "stdout",
     "output_type": "stream",
     "text": [
      "the number of times the gaussian fitting worked was 6200 and the number of times the gaussian did not fit was 0\n"
     ]
    },
    {
     "name": "stderr",
     "output_type": "stream",
     "text": [
      "Processing frames:  11%|█         | 14/130 [01:06<01:29,  1.30it/s]"
     ]
    },
    {
     "name": "stdout",
     "output_type": "stream",
     "text": [
      "the number of times the gaussian fitting worked was 6090 and the number of times the gaussian did not fit was 0\n"
     ]
    },
    {
     "name": "stderr",
     "output_type": "stream",
     "text": [
      "Processing frames:  12%|█▏        | 15/130 [01:06<01:16,  1.50it/s]"
     ]
    },
    {
     "name": "stdout",
     "output_type": "stream",
     "text": [
      "the number of times the gaussian fitting worked was 6157 and the number of times the gaussian did not fit was 0\n",
      "the number of times the gaussian fitting worked was 5387 and the number of times the gaussian did not fit was 0\n"
     ]
    },
    {
     "name": "stderr",
     "output_type": "stream",
     "text": [
      "Processing frames:  13%|█▎        | 17/130 [02:04<21:46, 11.57s/it]"
     ]
    },
    {
     "name": "stdout",
     "output_type": "stream",
     "text": [
      "the number of times the gaussian fitting worked was 5412 and the number of times the gaussian did not fit was 0\n",
      "the number of times the gaussian fitting worked was 5592 and the number of times the gaussian did not fit was 0\n",
      "the number of times the gaussian fitting worked was 5366 and the number of times the gaussian did not fit was 0\n"
     ]
    },
    {
     "name": "stderr",
     "output_type": "stream",
     "text": [
      "Processing frames:  14%|█▍        | 18/130 [02:04<15:34,  8.34s/it]"
     ]
    },
    {
     "name": "stdout",
     "output_type": "stream",
     "text": [
      "the number of times the gaussian fitting worked was 5383 and the number of times the gaussian did not fit was 0\n"
     ]
    },
    {
     "name": "stderr",
     "output_type": "stream",
     "text": [
      "Processing frames:  16%|█▌        | 21/130 [02:05<07:04,  3.90s/it]"
     ]
    },
    {
     "name": "stdout",
     "output_type": "stream",
     "text": [
      "the number of times the gaussian fitting worked was 5526 and the number of times the gaussian did not fit was 0\n",
      "the number of times the gaussian fitting worked was 5714 and the number of times the gaussian did not fit was 0\n",
      "the number of times the gaussian fitting worked was 5698 and the number of times the gaussian did not fit was 0\n"
     ]
    },
    {
     "name": "stderr",
     "output_type": "stream",
     "text": [
      "Processing frames:  18%|█▊        | 23/130 [02:05<04:38,  2.61s/it]"
     ]
    },
    {
     "name": "stdout",
     "output_type": "stream",
     "text": [
      "the number of times the gaussian fitting worked was 5654 and the number of times the gaussian did not fit was 0\n",
      "the number of times the gaussian fitting worked was 5585 and the number of times the gaussian did not fit was 0\n",
      "the number of times the gaussian fitting worked was 5719 and the number of times the gaussian did not fit was 0\n",
      "the number of times the gaussian fitting worked was 5563 and the number of times the gaussian did not fit was 0\n"
     ]
    },
    {
     "name": "stderr",
     "output_type": "stream",
     "text": [
      "Processing frames:  22%|██▏       | 28/130 [02:05<01:56,  1.14s/it]"
     ]
    },
    {
     "name": "stdout",
     "output_type": "stream",
     "text": [
      "the number of times the gaussian fitting worked was 5328 and the number of times the gaussian did not fit was 0\n"
     ]
    },
    {
     "name": "stderr",
     "output_type": "stream",
     "text": [
      "Processing frames:  22%|██▏       | 29/130 [02:06<01:41,  1.01s/it]"
     ]
    },
    {
     "name": "stdout",
     "output_type": "stream",
     "text": [
      "the number of times the gaussian fitting worked was 5685 and the number of times the gaussian did not fit was 0\n"
     ]
    },
    {
     "name": "stderr",
     "output_type": "stream",
     "text": [
      "Processing frames:  23%|██▎       | 30/130 [02:06<01:31,  1.09it/s]"
     ]
    },
    {
     "name": "stdout",
     "output_type": "stream",
     "text": [
      "the number of times the gaussian fitting worked was 5389 and the number of times the gaussian did not fit was 0\n"
     ]
    },
    {
     "name": "stderr",
     "output_type": "stream",
     "text": [
      "Processing frames:  24%|██▍       | 31/130 [03:03<21:43, 13.17s/it]"
     ]
    },
    {
     "name": "stdout",
     "output_type": "stream",
     "text": [
      "the number of times the gaussian fitting worked was 5145 and the number of times the gaussian did not fit was 0\n",
      "the number of times the gaussian fitting worked was 5134 and the number of times the gaussian did not fit was 0\n",
      "the number of times the gaussian fitting worked was 5281 and the number of times the gaussian did not fit was 0\n"
     ]
    },
    {
     "name": "stderr",
     "output_type": "stream",
     "text": [
      "Processing frames:  27%|██▋       | 35/130 [03:04<08:06,  5.12s/it]"
     ]
    },
    {
     "name": "stdout",
     "output_type": "stream",
     "text": [
      "the number of times the gaussian fitting worked was 5055 and the number of times the gaussian did not fit was 0\n",
      "the number of times the gaussian fitting worked was 5323 and the number of times the gaussian did not fit was 0\n",
      "the number of times the gaussian fitting worked was 5166 and the number of times the gaussian did not fit was 0\n"
     ]
    },
    {
     "name": "stderr",
     "output_type": "stream",
     "text": [
      "Processing frames:  28%|██▊       | 37/130 [03:05<05:31,  3.56s/it]"
     ]
    },
    {
     "name": "stdout",
     "output_type": "stream",
     "text": [
      "the number of times the gaussian fitting worked was 5156 and the number of times the gaussian did not fit was 0\n",
      "the number of times the gaussian fitting worked was 5277 and the number of times the gaussian did not fit was 0\n"
     ]
    },
    {
     "name": "stderr",
     "output_type": "stream",
     "text": [
      "Processing frames:  30%|███       | 39/130 [03:05<03:31,  2.33s/it]"
     ]
    },
    {
     "name": "stdout",
     "output_type": "stream",
     "text": [
      "the number of times the gaussian fitting worked was 5308 and the number of times the gaussian did not fit was 0\n",
      "the number of times the gaussian fitting worked was 5286 and the number of times the gaussian did not fit was 0\n",
      "the number of times the gaussian fitting worked was 5224 and the number of times the gaussian did not fit was 0\n",
      "the number of times the gaussian fitting worked was 5074 and the number of times the gaussian did not fit was 0\n",
      "the number of times the gaussian fitting worked was 5285 and the number of times the gaussian did not fit was 0\n"
     ]
    },
    {
     "name": "stderr",
     "output_type": "stream",
     "text": [
      "Processing frames:  35%|███▍      | 45/130 [03:06<01:09,  1.22it/s]"
     ]
    },
    {
     "name": "stdout",
     "output_type": "stream",
     "text": [
      "the number of times the gaussian fitting worked was 5250 and the number of times the gaussian did not fit was 0\n",
      "the number of times the gaussian fitting worked was 5044 and the number of times the gaussian did not fit was 0\n",
      "the number of times the gaussian fitting worked was 4741 and the number of times the gaussian did not fit was 0\n"
     ]
    },
    {
     "name": "stderr",
     "output_type": "stream",
     "text": [
      "Processing frames:  36%|███▌      | 47/130 [04:01<11:06,  8.03s/it]"
     ]
    },
    {
     "name": "stdout",
     "output_type": "stream",
     "text": [
      "the number of times the gaussian fitting worked was 4753 and the number of times the gaussian did not fit was 0\n",
      "the number of times the gaussian fitting worked was 4751 and the number of times the gaussian did not fit was 0\n"
     ]
    },
    {
     "name": "stderr",
     "output_type": "stream",
     "text": [
      "Processing frames:  38%|███▊      | 49/130 [04:01<07:05,  5.25s/it]"
     ]
    },
    {
     "name": "stdout",
     "output_type": "stream",
     "text": [
      "the number of times the gaussian fitting worked was 4928 and the number of times the gaussian did not fit was 0\n",
      "the number of times the gaussian fitting worked was 4937 and the number of times the gaussian did not fit was 0\n"
     ]
    },
    {
     "name": "stderr",
     "output_type": "stream",
     "text": [
      "Processing frames:  38%|███▊      | 50/130 [04:01<05:37,  4.22s/it]"
     ]
    },
    {
     "name": "stdout",
     "output_type": "stream",
     "text": [
      "the number of times the gaussian fitting worked was 4873 and the number of times the gaussian did not fit was 0\n",
      "the number of times the gaussian fitting worked was 4709 and the number of times the gaussian did not fit was 0\n",
      "the number of times the gaussian fitting worked was 4878 and the number of times the gaussian did not fit was 0\n"
     ]
    },
    {
     "name": "stderr",
     "output_type": "stream",
     "text": [
      "Processing frames:  42%|████▏     | 54/130 [04:02<02:16,  1.80s/it]"
     ]
    },
    {
     "name": "stdout",
     "output_type": "stream",
     "text": [
      "the number of times the gaussian fitting worked was 4810 and the number of times the gaussian did not fit was 0\n",
      "the number of times the gaussian fitting worked was 4858 and the number of times the gaussian did not fit was 0\n",
      "the number of times the gaussian fitting worked was 5030 and the number of times the gaussian did not fit was 1\n",
      "the number of times the gaussian fitting worked was 4984 and the number of times the gaussian did not fit was 0\n"
     ]
    },
    {
     "name": "stderr",
     "output_type": "stream",
     "text": [
      "Processing frames:  45%|████▍     | 58/130 [04:03<01:11,  1.00it/s]"
     ]
    },
    {
     "name": "stdout",
     "output_type": "stream",
     "text": [
      "the number of times the gaussian fitting worked was 4785 and the number of times the gaussian did not fit was 0\n",
      "the number of times the gaussian fitting worked was 4939 and the number of times the gaussian did not fit was 0\n"
     ]
    },
    {
     "name": "stderr",
     "output_type": "stream",
     "text": [
      "Processing frames:  46%|████▌     | 60/130 [04:05<01:17,  1.11s/it]"
     ]
    },
    {
     "name": "stdout",
     "output_type": "stream",
     "text": [
      "the number of times the gaussian fitting worked was 5112 and the number of times the gaussian did not fit was 0\n"
     ]
    },
    {
     "name": "stderr",
     "output_type": "stream",
     "text": [
      "Processing frames:  47%|████▋     | 61/130 [05:05<16:53, 14.69s/it]"
     ]
    },
    {
     "name": "stdout",
     "output_type": "stream",
     "text": [
      "the number of times the gaussian fitting worked was 4569 and the number of times the gaussian did not fit was 0\n"
     ]
    },
    {
     "name": "stderr",
     "output_type": "stream",
     "text": [
      "Processing frames:  48%|████▊     | 62/130 [05:06<12:37, 11.14s/it]"
     ]
    },
    {
     "name": "stdout",
     "output_type": "stream",
     "text": [
      "the number of times the gaussian fitting worked was 4539 and the number of times the gaussian did not fit was 0\n",
      "the number of times the gaussian fitting worked was 4529 and the number of times the gaussian did not fit was 0\n"
     ]
    },
    {
     "name": "stderr",
     "output_type": "stream",
     "text": [
      "Processing frames:  49%|████▉     | 64/130 [05:06<06:41,  6.08s/it]"
     ]
    },
    {
     "name": "stdout",
     "output_type": "stream",
     "text": [
      "the number of times the gaussian fitting worked was 4730 and the number of times the gaussian did not fit was 1\n"
     ]
    },
    {
     "name": "stderr",
     "output_type": "stream",
     "text": [
      "Processing frames:  50%|█████     | 65/130 [05:06<04:47,  4.42s/it]"
     ]
    },
    {
     "name": "stdout",
     "output_type": "stream",
     "text": [
      "the number of times the gaussian fitting worked was 4530 and the number of times the gaussian did not fit was 0\n",
      "the number of times the gaussian fitting worked was 4539 and the number of times the gaussian did not fit was 0\n"
     ]
    },
    {
     "name": "stderr",
     "output_type": "stream",
     "text": [
      "Processing frames:  52%|█████▏    | 67/130 [05:07<02:34,  2.46s/it]"
     ]
    },
    {
     "name": "stdout",
     "output_type": "stream",
     "text": [
      "the number of times the gaussian fitting worked was 4566 and the number of times the gaussian did not fit was 0\n"
     ]
    },
    {
     "name": "stderr",
     "output_type": "stream",
     "text": [
      "Processing frames:  52%|█████▏    | 68/130 [05:08<02:01,  1.97s/it]"
     ]
    },
    {
     "name": "stdout",
     "output_type": "stream",
     "text": [
      "the number of times the gaussian fitting worked was 4575 and the number of times the gaussian did not fit was 0\n",
      "the number of times the gaussian fitting worked was 4627 and the number of times the gaussian did not fit was 0\n"
     ]
    },
    {
     "name": "stderr",
     "output_type": "stream",
     "text": [
      "Processing frames:  54%|█████▍    | 70/130 [05:08<01:08,  1.14s/it]"
     ]
    },
    {
     "name": "stdout",
     "output_type": "stream",
     "text": [
      "the number of times the gaussian fitting worked was 4674 and the number of times the gaussian did not fit was 0\n",
      "the number of times the gaussian fitting worked was 4555 and the number of times the gaussian did not fit was 0\n"
     ]
    },
    {
     "name": "stderr",
     "output_type": "stream",
     "text": [
      "Processing frames:  55%|█████▌    | 72/130 [05:09<00:41,  1.41it/s]"
     ]
    },
    {
     "name": "stdout",
     "output_type": "stream",
     "text": [
      "the number of times the gaussian fitting worked was 4643 and the number of times the gaussian did not fit was 0\n",
      "the number of times the gaussian fitting worked was 4646 and the number of times the gaussian did not fit was 0\n"
     ]
    },
    {
     "name": "stderr",
     "output_type": "stream",
     "text": [
      "Processing frames:  57%|█████▋    | 74/130 [05:09<00:30,  1.86it/s]"
     ]
    },
    {
     "name": "stdout",
     "output_type": "stream",
     "text": [
      "the number of times the gaussian fitting worked was 4715 and the number of times the gaussian did not fit was 0\n"
     ]
    },
    {
     "name": "stderr",
     "output_type": "stream",
     "text": [
      "Processing frames:  58%|█████▊    | 75/130 [05:10<00:30,  1.79it/s]"
     ]
    },
    {
     "name": "stdout",
     "output_type": "stream",
     "text": [
      "the number of times the gaussian fitting worked was 4494 and the number of times the gaussian did not fit was 0\n"
     ]
    },
    {
     "name": "stderr",
     "output_type": "stream",
     "text": [
      "Processing frames:  58%|█████▊    | 76/130 [06:09<15:16, 16.98s/it]"
     ]
    },
    {
     "name": "stdout",
     "output_type": "stream",
     "text": [
      "the number of times the gaussian fitting worked was 4382 and the number of times the gaussian did not fit was 0\n"
     ]
    },
    {
     "name": "stderr",
     "output_type": "stream",
     "text": [
      "Processing frames:  59%|█████▉    | 77/130 [06:10<10:48, 12.24s/it]"
     ]
    },
    {
     "name": "stdout",
     "output_type": "stream",
     "text": [
      "the number of times the gaussian fitting worked was 4376 and the number of times the gaussian did not fit was 0\n"
     ]
    },
    {
     "name": "stderr",
     "output_type": "stream",
     "text": [
      "Processing frames:  60%|██████    | 78/130 [06:10<07:36,  8.78s/it]"
     ]
    },
    {
     "name": "stdout",
     "output_type": "stream",
     "text": [
      "the number of times the gaussian fitting worked was 4418 and the number of times the gaussian did not fit was 0\n",
      "the number of times the gaussian fitting worked was 4328 and the number of times the gaussian did not fit was 0\n",
      "the number of times the gaussian fitting worked was 4399 and the number of times the gaussian did not fit was 0\n",
      "the number of times the gaussian fitting worked was 4348 and the number of times the gaussian did not fit was 0\n"
     ]
    },
    {
     "name": "stderr",
     "output_type": "stream",
     "text": [
      "Processing frames:  63%|██████▎   | 82/130 [06:11<02:22,  2.96s/it]"
     ]
    },
    {
     "name": "stdout",
     "output_type": "stream",
     "text": [
      "the number of times the gaussian fitting worked was 4347 and the number of times the gaussian did not fit was 0\n"
     ]
    },
    {
     "name": "stderr",
     "output_type": "stream",
     "text": [
      "Processing frames:  64%|██████▍   | 83/130 [06:12<01:56,  2.48s/it]"
     ]
    },
    {
     "name": "stdout",
     "output_type": "stream",
     "text": [
      "the number of times the gaussian fitting worked was 4368 and the number of times the gaussian did not fit was 0\n",
      "the number of times the gaussian fitting worked was 4416 and the number of times the gaussian did not fit was 0\n",
      "the number of times the gaussian fitting worked was 4251 and the number of times the gaussian did not fit was 0\n",
      "the number of times the gaussian fitting worked was 4315 and the number of times the gaussian did not fit was 0\n"
     ]
    },
    {
     "name": "stderr",
     "output_type": "stream",
     "text": [
      "Processing frames:  66%|██████▌   | 86/130 [06:12<00:58,  1.33s/it]"
     ]
    },
    {
     "name": "stdout",
     "output_type": "stream",
     "text": [
      "the number of times the gaussian fitting worked was 4317 and the number of times the gaussian did not fit was 0\n",
      "the number of times the gaussian fitting worked was 4361 and the number of times the gaussian did not fit was 0\n",
      "the number of times the gaussian fitting worked was 4262 and the number of times the gaussian did not fit was 0\n"
     ]
    },
    {
     "name": "stderr",
     "output_type": "stream",
     "text": [
      "Processing frames:  69%|██████▉   | 90/130 [06:13<00:27,  1.45it/s]"
     ]
    },
    {
     "name": "stdout",
     "output_type": "stream",
     "text": [
      "the number of times the gaussian fitting worked was 4334 and the number of times the gaussian did not fit was 0\n"
     ]
    },
    {
     "name": "stderr",
     "output_type": "stream",
     "text": [
      "Processing frames:  71%|███████   | 92/130 [07:10<05:32,  8.75s/it]"
     ]
    },
    {
     "name": "stdout",
     "output_type": "stream",
     "text": [
      "the number of times the gaussian fitting worked was 4079 and the number of times the gaussian did not fit was 0\n",
      "the number of times the gaussian fitting worked was 4238 and the number of times the gaussian did not fit was 0\n",
      "the number of times the gaussian fitting worked was 4206 and the number of times the gaussian did not fit was 0\n"
     ]
    },
    {
     "name": "stderr",
     "output_type": "stream",
     "text": [
      "Processing frames:  72%|███████▏  | 94/130 [07:11<03:09,  5.27s/it]"
     ]
    },
    {
     "name": "stdout",
     "output_type": "stream",
     "text": [
      "the number of times the gaussian fitting worked was 4152 and the number of times the gaussian did not fit was 0\n",
      "the number of times the gaussian fitting worked was 4146 and the number of times the gaussian did not fit was 0\n"
     ]
    },
    {
     "name": "stderr",
     "output_type": "stream",
     "text": [
      "Processing frames:  74%|███████▍  | 96/130 [07:11<01:39,  2.93s/it]"
     ]
    },
    {
     "name": "stdout",
     "output_type": "stream",
     "text": [
      "the number of times the gaussian fitting worked was 4093 and the number of times the gaussian did not fit was 0\n"
     ]
    },
    {
     "name": "stderr",
     "output_type": "stream",
     "text": [
      "Processing frames:  75%|███████▍  | 97/130 [07:12<01:11,  2.17s/it]"
     ]
    },
    {
     "name": "stdout",
     "output_type": "stream",
     "text": [
      "the number of times the gaussian fitting worked was 4213 and the number of times the gaussian did not fit was 0\n"
     ]
    },
    {
     "name": "stderr",
     "output_type": "stream",
     "text": [
      "Processing frames:  75%|███████▌  | 98/130 [07:12<00:56,  1.77s/it]"
     ]
    },
    {
     "name": "stdout",
     "output_type": "stream",
     "text": [
      "the number of times the gaussian fitting worked was 4153 and the number of times the gaussian did not fit was 0\n"
     ]
    },
    {
     "name": "stderr",
     "output_type": "stream",
     "text": [
      "Processing frames:  76%|███████▌  | 99/130 [07:13<00:42,  1.36s/it]"
     ]
    },
    {
     "name": "stdout",
     "output_type": "stream",
     "text": [
      "the number of times the gaussian fitting worked was 4139 and the number of times the gaussian did not fit was 0\n"
     ]
    },
    {
     "name": "stderr",
     "output_type": "stream",
     "text": [
      "Processing frames:  77%|███████▋  | 100/130 [07:13<00:32,  1.09s/it]"
     ]
    },
    {
     "name": "stdout",
     "output_type": "stream",
     "text": [
      "the number of times the gaussian fitting worked was 4229 and the number of times the gaussian did not fit was 0\n",
      "the number of times the gaussian fitting worked was 4207 and the number of times the gaussian did not fit was 0\n"
     ]
    },
    {
     "name": "stderr",
     "output_type": "stream",
     "text": [
      "Processing frames:  78%|███████▊  | 102/130 [07:14<00:21,  1.31it/s]"
     ]
    },
    {
     "name": "stdout",
     "output_type": "stream",
     "text": [
      "the number of times the gaussian fitting worked was 4286 and the number of times the gaussian did not fit was 0\n"
     ]
    },
    {
     "name": "stderr",
     "output_type": "stream",
     "text": [
      "Processing frames:  79%|███████▉  | 103/130 [07:15<00:22,  1.18it/s]"
     ]
    },
    {
     "name": "stdout",
     "output_type": "stream",
     "text": [
      "the number of times the gaussian fitting worked was 4348 and the number of times the gaussian did not fit was 0\n"
     ]
    },
    {
     "name": "stderr",
     "output_type": "stream",
     "text": [
      "Processing frames:  80%|████████  | 104/130 [07:16<00:20,  1.29it/s]"
     ]
    },
    {
     "name": "stdout",
     "output_type": "stream",
     "text": [
      "the number of times the gaussian fitting worked was 4343 and the number of times the gaussian did not fit was 0\n"
     ]
    },
    {
     "name": "stderr",
     "output_type": "stream",
     "text": [
      "Processing frames:  81%|████████  | 105/130 [07:16<00:19,  1.29it/s]"
     ]
    },
    {
     "name": "stdout",
     "output_type": "stream",
     "text": [
      "the number of times the gaussian fitting worked was 4494 and the number of times the gaussian did not fit was 0\n",
      "the number of times the gaussian fitting worked was 4164 and the number of times the gaussian did not fit was 0\n"
     ]
    },
    {
     "name": "stderr",
     "output_type": "stream",
     "text": [
      "Processing frames:  82%|████████▏ | 107/130 [08:10<04:12, 11.00s/it]"
     ]
    },
    {
     "name": "stdout",
     "output_type": "stream",
     "text": [
      "the number of times the gaussian fitting worked was 4024 and the number of times the gaussian did not fit was 0\n",
      "the number of times the gaussian fitting worked was 4110 and the number of times the gaussian did not fit was 0\n"
     ]
    },
    {
     "name": "stderr",
     "output_type": "stream",
     "text": [
      "Processing frames:  84%|████████▍ | 109/130 [08:10<02:10,  6.20s/it]"
     ]
    },
    {
     "name": "stdout",
     "output_type": "stream",
     "text": [
      "the number of times the gaussian fitting worked was 3944 and the number of times the gaussian did not fit was 0\n",
      "the number of times the gaussian fitting worked was 4080 and the number of times the gaussian did not fit was 0\n"
     ]
    },
    {
     "name": "stderr",
     "output_type": "stream",
     "text": [
      "Processing frames:  86%|████████▌ | 112/130 [08:11<00:54,  3.05s/it]"
     ]
    },
    {
     "name": "stdout",
     "output_type": "stream",
     "text": [
      "the number of times the gaussian fitting worked was 4185 and the number of times the gaussian did not fit was 0\n",
      "the number of times the gaussian fitting worked was 3997 and the number of times the gaussian did not fit was 0\n",
      "the number of times the gaussian fitting worked was 3926 and the number of times the gaussian did not fit was 0\n",
      "the number of times the gaussian fitting worked was 4194 and the number of times the gaussian did not fit was 0\n"
     ]
    },
    {
     "name": "stderr",
     "output_type": "stream",
     "text": [
      "Processing frames:  88%|████████▊ | 115/130 [08:11<00:23,  1.54s/it]"
     ]
    },
    {
     "name": "stdout",
     "output_type": "stream",
     "text": [
      "the number of times the gaussian fitting worked was 4035 and the number of times the gaussian did not fit was 0\n"
     ]
    },
    {
     "name": "stderr",
     "output_type": "stream",
     "text": [
      "Processing frames:  89%|████████▉ | 116/130 [08:11<00:17,  1.24s/it]"
     ]
    },
    {
     "name": "stdout",
     "output_type": "stream",
     "text": [
      "the number of times the gaussian fitting worked was 4218 and the number of times the gaussian did not fit was 0\n",
      "the number of times the gaussian fitting worked was 4044 and the number of times the gaussian did not fit was 0\n"
     ]
    },
    {
     "name": "stderr",
     "output_type": "stream",
     "text": [
      "Processing frames:  91%|█████████ | 118/130 [08:12<00:10,  1.09it/s]"
     ]
    },
    {
     "name": "stdout",
     "output_type": "stream",
     "text": [
      "the number of times the gaussian fitting worked was 3810 and the number of times the gaussian did not fit was 0\n",
      "the number of times the gaussian fitting worked was 3905 and the number of times the gaussian did not fit was 0\n"
     ]
    },
    {
     "name": "stderr",
     "output_type": "stream",
     "text": [
      "Processing frames:  92%|█████████▏| 120/130 [08:13<00:07,  1.39it/s]"
     ]
    },
    {
     "name": "stdout",
     "output_type": "stream",
     "text": [
      "the number of times the gaussian fitting worked was 3898 and the number of times the gaussian did not fit was 0\n"
     ]
    },
    {
     "name": "stderr",
     "output_type": "stream",
     "text": [
      "Processing frames:  93%|█████████▎| 121/130 [08:48<01:11,  7.90s/it]"
     ]
    },
    {
     "name": "stdout",
     "output_type": "stream",
     "text": [
      "the number of times the gaussian fitting worked was 3589 and the number of times the gaussian did not fit was 0\n",
      "the number of times the gaussian fitting worked was 3629 and the number of times the gaussian did not fit was 0\n"
     ]
    },
    {
     "name": "stderr",
     "output_type": "stream",
     "text": [
      "Processing frames:  95%|█████████▍| 123/130 [08:49<00:35,  5.07s/it]"
     ]
    },
    {
     "name": "stdout",
     "output_type": "stream",
     "text": [
      "the number of times the gaussian fitting worked was 3637 and the number of times the gaussian did not fit was 0\n",
      "the number of times the gaussian fitting worked was 3785 and the number of times the gaussian did not fit was 0\n",
      "the number of times the gaussian fitting worked was 3698 and the number of times the gaussian did not fit was 0\n"
     ]
    },
    {
     "name": "stderr",
     "output_type": "stream",
     "text": [
      "Processing frames:  96%|█████████▌| 125/130 [08:49<00:16,  3.35s/it]"
     ]
    },
    {
     "name": "stdout",
     "output_type": "stream",
     "text": [
      "the number of times the gaussian fitting worked was 3688 and the number of times the gaussian did not fit was 0\n",
      "the number of times the gaussian fitting worked was 3857 and the number of times the gaussian did not fit was 1\n",
      "the number of times the gaussian fitting worked was 3784 and the number of times the gaussian did not fit was 0\n"
     ]
    },
    {
     "name": "stderr",
     "output_type": "stream",
     "text": [
      "Processing frames:  99%|█████████▉| 129/130 [08:50<00:01,  1.66s/it]"
     ]
    },
    {
     "name": "stdout",
     "output_type": "stream",
     "text": [
      "the number of times the gaussian fitting worked was 3746 and the number of times the gaussian did not fit was 1\n",
      "the number of times the gaussian fitting worked was 3666 and the number of times the gaussian did not fit was 0\n"
     ]
    },
    {
     "name": "stderr",
     "output_type": "stream",
     "text": [
      "Processing frames: 100%|██████████| 130/130 [08:50<00:00,  4.08s/it]\n"
     ]
    }
   ],
   "source": [
    "#the following function returns the dataframe and also saves it to the provided path in pkl format\n",
    "#set all_frames = True, to process all the time frames \n",
    "#max_frames is useful when you just want to perform detection on a subset of frames. \n",
    "#Note: when all_frames= True then max_frames is ignored \n",
    "df = detector.run_parallel_frame_processing(max_frames = number_frames_to_detect, all_frames = all_frames)"
   ]
  },
  {
   "cell_type": "markdown",
   "id": "e2fb5443-0c8f-41f3-9464-ba14e2bbf75c",
   "metadata": {},
   "source": [
    "# Visualising the Output\n",
    "## Labels are only for time frame 0, for all z slices "
   ]
  },
  {
   "cell_type": "markdown",
   "id": "4df6b924",
   "metadata": {},
   "source": [
    "## Below you can see detected spots as masks on the original image and can adjust detection parameters if you think spots are not detected correctly \n",
    "\n",
    "### Once you are in the napari viewer you should adjust the contrast and the opacity to make sure both the masks and the raw movie is visible properly.  "
   ]
  },
  {
   "cell_type": "code",
   "execution_count": 18,
   "id": "569b7ad6",
   "metadata": {},
   "outputs": [
    {
     "data": {
      "text/html": [
       "<table class=\"zarr-info\"><tbody><tr><th style=\"text-align: left\">Type</th><td style=\"text-align: left\">zarr.core.Array</td></tr><tr><th style=\"text-align: left\">Data type</th><td style=\"text-align: left\">uint16</td></tr><tr><th style=\"text-align: left\">Shape</th><td style=\"text-align: left\">(130, 3, 115, 2052, 340)</td></tr><tr><th style=\"text-align: left\">Chunk shape</th><td style=\"text-align: left\">(1, 1, 115, 2052, 340)</td></tr><tr><th style=\"text-align: left\">Order</th><td style=\"text-align: left\">C</td></tr><tr><th style=\"text-align: left\">Read-only</th><td style=\"text-align: left\">True</td></tr><tr><th style=\"text-align: left\">Compressor</th><td style=\"text-align: left\">Blosc(cname='lz4', clevel=5, shuffle=SHUFFLE, blocksize=0)</td></tr><tr><th style=\"text-align: left\">Store type</th><td style=\"text-align: left\">zarr.storage.DirectoryStore</td></tr><tr><th style=\"text-align: left\">No. bytes</th><td style=\"text-align: left\">62581896000 (58.3G)</td></tr><tr><th style=\"text-align: left\">No. bytes stored</th><td style=\"text-align: left\">13539472425 (12.6G)</td></tr><tr><th style=\"text-align: left\">Storage ratio</th><td style=\"text-align: left\">4.6</td></tr><tr><th style=\"text-align: left\">Chunks initialized</th><td style=\"text-align: left\">390/390</td></tr></tbody></table>"
      ],
      "text/plain": [
       "Type               : zarr.core.Array\n",
       "Data type          : uint16\n",
       "Shape              : (130, 3, 115, 2052, 340)\n",
       "Chunk shape        : (1, 1, 115, 2052, 340)\n",
       "Order              : C\n",
       "Read-only          : True\n",
       "Compressor         : Blosc(cname='lz4', clevel=5, shuffle=SHUFFLE, blocksize=0)\n",
       "Store type         : zarr.storage.DirectoryStore\n",
       "No. bytes          : 62581896000 (58.3G)\n",
       "No. bytes stored   : 13539472425 (12.6G)\n",
       "Storage ratio      : 4.6\n",
       "Chunks initialized : 390/390"
      ]
     },
     "execution_count": 18,
     "metadata": {},
     "output_type": "execute_result"
    }
   ],
   "source": [
    "z2.info"
   ]
  },
  {
   "cell_type": "code",
   "execution_count": 47,
   "id": "efe3f21c",
   "metadata": {},
   "outputs": [
    {
     "name": "stderr",
     "output_type": "stream",
     "text": [
      "/Users/makamats/Repos/LLSM-CME-ANALYSIS/Final/src/gaussian_visualization.py:25: SettingWithCopyWarning: \n",
      "A value is trying to be set on a copy of a slice from a DataFrame.\n",
      "Try using .loc[row_indexer,col_indexer] = value instead\n",
      "\n",
      "See the caveats in the documentation: https://pandas.pydata.org/pandas-docs/stable/user_guide/indexing.html#returning-a-view-versus-a-copy\n",
      "  gaussians_df['sigma_x'] = gaussians_df['sigma_x'].replace(0, 1)\n",
      "/Users/makamats/Repos/LLSM-CME-ANALYSIS/Final/src/gaussian_visualization.py:26: SettingWithCopyWarning: \n",
      "A value is trying to be set on a copy of a slice from a DataFrame.\n",
      "Try using .loc[row_indexer,col_indexer] = value instead\n",
      "\n",
      "See the caveats in the documentation: https://pandas.pydata.org/pandas-docs/stable/user_guide/indexing.html#returning-a-view-versus-a-copy\n",
      "  gaussians_df['sigma_y'] = gaussians_df['sigma_y'].replace(0, 1)\n",
      "/Users/makamats/Repos/LLSM-CME-ANALYSIS/Final/src/gaussian_visualization.py:27: SettingWithCopyWarning: \n",
      "A value is trying to be set on a copy of a slice from a DataFrame.\n",
      "Try using .loc[row_indexer,col_indexer] = value instead\n",
      "\n",
      "See the caveats in the documentation: https://pandas.pydata.org/pandas-docs/stable/user_guide/indexing.html#returning-a-view-versus-a-copy\n",
      "  gaussians_df['sigma_z'] = gaussians_df['sigma_z'].replace(0, 1)\n"
     ]
    },
    {
     "name": "stderr",
     "output_type": "stream",
     "text": [
      "/Users/makamats/opt/anaconda3/envs/cme_pipeline/lib/python3.10/site-packages/napari/_vispy/layers/image.py:251: UserWarning: data shape (115, 2052, 340) exceeds GL_MAX_TEXTURE_SIZE 2048 in at least one axis and will be downsampled. Rendering is currently in 3D mode.\n",
      "  warnings.warn(\n"
     ]
    }
   ],
   "source": [
    "# Make a mask of the first time point of the detections\n",
    "\n",
    "masks = visualize_3D_gaussians(zarr_obj = z2, gaussians_df = df[df['frame'] == 0])\n",
    "# masks = visualize_3D_gaussians(zarr_obj = z2, gaussians_df = df)\n",
    "\n",
    "# Create a napari viewer\n",
    "viewer = napari.Viewer()\n",
    "\n",
    "#open the zarr file in read mode\n",
    "dask_array = da.from_zarr(z2)\n",
    "\n",
    "# first time point of the zarr file and the channel to detect\n",
    "#the axis arrangement is (t,c,z,y,x)\n",
    "\n",
    "dask_array_slice = dask_array[0,channel_to_detect-1,:,:,:]\n",
    "\n",
    "# Add the 3D stack to the viewer\n",
    "layer_raw = viewer.add_image(dask_array_slice, name='fluorescence', interpolation3d = 'nearest', blending = 'additive', colormap = 'magenta')\n",
    "\n",
    "# layer_mask = viewer.add_image(masks, name = 'detections mask')\n",
    "layer_mask = viewer.add_image(masks, name = 'detections', interpolation3d = 'nearest', blending = 'additive', colormap = 'green')\n",
    "\n",
    "#other useful parameters \n",
    "#color_map = list\n",
    "#contrast_limits = list of list \n",
    "\n",
    "# Add Bounding Box\n",
    "layer_raw.bounding_box.visible = True\n"
   ]
  },
  {
   "cell_type": "markdown",
   "id": "f0113030",
   "metadata": {},
   "source": [
    "If the detections don't line up well with the spots in the image:\n",
    "* mouse over the spots in napari to get a sense for the intensity of the spots vs background - use the threshold distinguishing spots from background as threshold_intensity \n",
    "* vary the dist_between_spots: if the detections are at a higher density than the visible spots, increase the dist_between_spots. And vice versa, if you see spots at a higher density than detections, lower the dist_between_spots.\n",
    "* If the detections are missing larger or smaller spots you can try increasing or decreasing the sigma_estimations. \n",
    "If you see elongated detections, these will be filtered out in the next notebook."
   ]
  },
  {
   "cell_type": "markdown",
   "id": "2c08adc4",
   "metadata": {},
   "source": [
    "# move to 02.filtering_spots for next steps "
   ]
  }
 ],
 "metadata": {
  "kernelspec": {
   "display_name": "Python 3 (ipykernel)",
   "language": "python",
   "name": "python3"
  },
  "language_info": {
   "codemirror_mode": {
    "name": "ipython",
    "version": 3
   },
   "file_extension": ".py",
   "mimetype": "text/x-python",
   "name": "python",
   "nbconvert_exporter": "python",
   "pygments_lexer": "ipython3",
   "version": "3.10.0"
  }
 },
 "nbformat": 4,
 "nbformat_minor": 5
}
