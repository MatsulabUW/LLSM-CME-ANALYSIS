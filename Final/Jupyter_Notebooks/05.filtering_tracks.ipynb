{
 "cells": [
  {
   "cell_type": "markdown",
   "id": "d4009a13",
   "metadata": {},
   "source": [
    "# Filter out tracks based on criteria"
   ]
  },
  {
   "cell_type": "code",
   "execution_count": 1,
   "id": "d931927b",
   "metadata": {},
   "outputs": [],
   "source": [
    "import pandas as pd \n",
    "import numpy as np \n",
    "import sys\n",
    "sys.path.append('../src/')\n",
    "from filters import Track, create_tracks_from_dataframe, drop_short_tracks\n",
    "from filters import drop_early_peak_tracks, drop_last_frame_peak_tracks, drop_tracks_below_intensity\n",
    "from filters import plot_z_sum, allocate_membrane_regions, plot_z_sum_bd\n",
    "import napari\n",
    "import zarr\n",
    "import dask.array as da\n",
    "import os"
   ]
  },
  {
   "cell_type": "markdown",
   "id": "d59676f2-b289-4961-a9eb-a3166dbc4922",
   "metadata": {},
   "source": [
    "Do not change the code in the cell below "
   ]
  },
  {
   "cell_type": "code",
   "execution_count": 2,
   "id": "15d231af-e45a-4420-860a-2858a3301462",
   "metadata": {},
   "outputs": [],
   "source": [
    "# This assumes that your notebook is inside 'Jupyter Notebooks', which is at the same level as 'test_data'\n",
    "base_dir = os.path.join(os.path.dirname(os.path.abspath(\"__file__\")), '..', 'movie_data')\n",
    "\n",
    "zarr_directory = 'zarr_file/all_channels_data'\n",
    "zarr_full_path = os.path.join(base_dir, zarr_directory)\n",
    "\n",
    "input_directory = 'datasets'\n",
    "input_file_name = 'track_df_cleaned_final_full.pkl'\n",
    "input_directory_full = os.path.join(base_dir,input_directory, input_file_name)\n",
    "\n",
    "output_directory = 'datasets'\n",
    "output_file_name = 'filtered_tracks_final.pkl'\n",
    "output_directory_full = os.path.join(base_dir,output_directory, output_file_name)"
   ]
  },
  {
   "cell_type": "code",
   "execution_count": 3,
   "id": "330b03a6",
   "metadata": {},
   "outputs": [],
   "source": [
    "# open tracks and movie\n",
    "track_df = pd.read_pickle(input_directory_full)\n",
    "\n",
    "z2 = zarr.open(zarr_full_path, mode='r')\n"
   ]
  },
  {
   "cell_type": "markdown",
   "id": "e3923861",
   "metadata": {},
   "source": [
    "## Set filtering parameters below"
   ]
  },
  {
   "cell_type": "code",
   "execution_count": 4,
   "id": "6c6e9526",
   "metadata": {},
   "outputs": [],
   "source": [
    "# Drop tracks shorter than this length (in frames)\n",
    "threshold_length = 3 \n",
    "\n",
    "# Drop tracks in which the peak intensity happens at or before this frame\n",
    "peak_cutoff = 3 \n",
    "\n",
    "# This is the minimum intensity value that a specific channel within a track must achieve to be considered positive for that channel.\n",
    "threshold_intensity_channel_1 = 240 \n",
    "threshold_intensity_channel_2 = 150 \n",
    "\n",
    " # set this to false if you don't want to classify by apical, lateral, basal\n",
    "membrane_regions_exist = True\n",
    "\n",
    "# set default channel names (optionally adjust)\n",
    "\n",
    "channel1_name = 'channel 1'\n",
    "channel2_name = 'channel 2'\n",
    "channel3_name = 'channel 3'\n"
   ]
  },
  {
   "cell_type": "code",
   "execution_count": 5,
   "id": "0e353817",
   "metadata": {},
   "outputs": [],
   "source": [
    "tracks = create_tracks_from_dataframe(df = track_df, intensities_col_name = ['c3_peak_mean', 'c2_peak_mean', 'c1_peak_mean'], \n",
    "track_id_col_name = 'track_id', frame_col_name = 'frame', coords = ['mu_x', 'mu_y', 'mu_z'])"
   ]
  },
  {
   "cell_type": "code",
   "execution_count": 6,
   "id": "c4bb771a",
   "metadata": {},
   "outputs": [],
   "source": [
    "# Create DataFrame from Track instances\n",
    "tracks_data = {\n",
    "    'track_id': [track.track_id.values[0] for track in tracks],\n",
    "    'track_length': [track.track_length for track in tracks],\n",
    "    'track_start': [track.track_start for track in tracks],\n",
    "    'track_end': [track.track_end for track in tracks],\n",
    "    'c3_peak': [track.peak_intensities[0] for track in tracks],\n",
    "    'c2_peak': [track.peak_intensities[1] for track in tracks],\n",
    "    'c1_peak': [track.peak_intensities[2] for track in tracks],\n",
    "    'c3_peak_frame': [track.peak_intensity_frames[0] for track in tracks],\n",
    "    'c2_peak_frame': [track.peak_intensity_frames[1] for track in tracks],\n",
    "    'c1_peak_frame': [track.peak_intensity_frames[2] for track in tracks],\n",
    "    'mean_displacement': [track.mean_displacement_track for track in tracks],\n",
    "    'mean_z': [track.mean_z_value for track in tracks],\n",
    "    'mean_z_displacement': [track.mean_z_displacement for track in tracks], \n",
    "    'max_radius_from_origin': [track.max_radius_from_origin for track in tracks], \n",
    "    'max_distance_between_two_points': [track.max_distance_between_two_points for track in tracks], \n",
    "    'C3_adjusted_voxel_sum_positive': [track.adjusted_voxel_sum[0] for track in tracks],\n",
    "    'C2_adjusted_voxel_sum_positive': [track.adjusted_voxel_sum[1] for track in tracks],\n",
    "    'C1_adjusted_voxel_sum_positive': [track.adjusted_voxel_sum[2] for track in tracks],\n",
    "    'max_z_movement': [track.max_z_movement for track in tracks],\n",
    "    'max_y_movement': [track.max_y_movement for track in tracks],\n",
    "    'max_x_movement': [track.max_x_movement for track in tracks],\n",
    "}\n",
    "\n",
    "tracks_df = pd.DataFrame(tracks_data)"
   ]
  },
  {
   "cell_type": "markdown",
   "id": "6dc53d8a",
   "metadata": {},
   "source": [
    "Filter out tracks based on length and completeness"
   ]
  },
  {
   "cell_type": "code",
   "execution_count": 7,
   "id": "25b6d86f",
   "metadata": {},
   "outputs": [],
   "source": [
    "#dropping tracks of length 3 and below\n",
    "length_filtered_tracks_df = drop_short_tracks(df = tracks_df, threshold = threshold_length)\n",
    "\n",
    "# Drop incomplete tracks (starting at first frame or ending at last frame)\n",
    "incomplete_tracks_df = tracks_df.loc[(tracks_df['track_start'] == 0) | (tracks_df['track_end'] == track_df['frame'].max())]\n",
    "tracks_df = tracks_df.drop(incomplete_tracks_df.index)\n"
   ]
  },
  {
   "cell_type": "markdown",
   "id": "45094290",
   "metadata": {},
   "source": [
    "### Determining Valid Channel 3 tracks \n",
    "valid_c3_tracks will serve as baseline \"clathrin positive\" and valid tracks"
   ]
  },
  {
   "cell_type": "code",
   "execution_count": 8,
   "id": "1169ea32",
   "metadata": {},
   "outputs": [],
   "source": [
    "### Dropping tracks with Channel 3 peak in the last frame\n",
    "valid_c3_tracks = drop_last_frame_peak_tracks(df = length_filtered_tracks_df, intensity_col = 'c3_peak_frame')\n",
    "\n",
    "### Dropping tracks with Channel 3 which have their peaks in the first three frames \n",
    "\n",
    "valid_c3_tracks = drop_early_peak_tracks(df = valid_c3_tracks, intensity_peak_frame = 'c3_peak_frame', \n",
    "                                      cutoff = peak_cutoff)"
   ]
  },
  {
   "cell_type": "markdown",
   "id": "21b05eef",
   "metadata": {},
   "source": [
    "### Filtering for Channel 2 \n",
    "dnm2_positive_tracks will serve as the baseline for dynamin positive tracks"
   ]
  },
  {
   "cell_type": "code",
   "execution_count": 9,
   "id": "fb9e7696",
   "metadata": {},
   "outputs": [
    {
     "data": {
      "text/plain": [
       "(2860, 21)"
      ]
     },
     "execution_count": 9,
     "metadata": {},
     "output_type": "execute_result"
    }
   ],
   "source": [
    "# Channel 2-positive tracks\n",
    "\n",
    "dnm2_positive_tracks = drop_tracks_below_intensity(df = valid_c3_tracks, threshold = threshold_intensity_channel_2, \n",
    "                                          intensity_peak_frame = 'c2_peak')\n",
    "\n",
    "### Filter tracks based on channel 2 peak if occurs within 3 frames of starting of a track \n",
    "\n",
    "dnm2_positive_tracks = drop_early_peak_tracks(df = dnm2_positive_tracks, intensity_peak_frame = 'c2_peak_frame', \n",
    "                                      cutoff = peak_cutoff)\n",
    "\n",
    "### Filter tracks based on channel 2 peaks occuring in the last frame \n",
    "\n",
    "dnm2_positive_tracks = drop_last_frame_peak_tracks(df = dnm2_positive_tracks, intensity_col = 'c2_peak_frame')\n",
    "dnm2_positive_tracks.shape"
   ]
  },
  {
   "cell_type": "markdown",
   "id": "237f65b1",
   "metadata": {},
   "source": [
    "### Identifying Channel 1 positive tracks "
   ]
  },
  {
   "cell_type": "code",
   "execution_count": 10,
   "id": "30ace9e8",
   "metadata": {},
   "outputs": [],
   "source": [
    "\n",
    "### Identifying Actin Positive Tracks \n",
    "actin_positive_tracks = drop_tracks_below_intensity(df = valid_c3_tracks, threshold = threshold_intensity_channel_1, \n",
    "                                          intensity_peak_frame = 'c1_peak' )\n",
    "\n",
    "### Filter tracks based on channel 1 peaks if occurs within the first 3 frames \n",
    "\n",
    "actin_positive_tracks = drop_early_peak_tracks(df = actin_positive_tracks, intensity_peak_frame = 'c1_peak_frame', \n",
    "                                      cutoff = peak_cutoff)\n",
    "\n",
    "actin_positive_tracks = drop_last_frame_peak_tracks(df = actin_positive_tracks, intensity_col = 'c1_peak_frame')"
   ]
  },
  {
   "cell_type": "markdown",
   "id": "d9da1df2",
   "metadata": {},
   "source": [
    "Combining actin and dynamin positive tracks with valid clathrin positive tracks "
   ]
  },
  {
   "cell_type": "code",
   "execution_count": 11,
   "id": "1e42300b",
   "metadata": {},
   "outputs": [],
   "source": [
    "final_tracks = valid_c3_tracks.copy(deep = True)\n",
    "final_tracks['channel2_positive'] = False \n",
    "final_tracks['channel1_positive'] = False "
   ]
  },
  {
   "cell_type": "code",
   "execution_count": 12,
   "id": "73c6d973",
   "metadata": {},
   "outputs": [
    {
     "name": "stdout",
     "output_type": "stream",
     "text": [
      "number of channel 1 positive tracks are: 2181\n",
      "number of channel 2 positive tracks are: 2860\n",
      "number of channel 1 and channel 2 positive tracks are: 1617\n"
     ]
    }
   ],
   "source": [
    "# ***Setting actin positive tracks to True***\n",
    "\n",
    "# Get the track IDs from actin_positive_tracks\n",
    "actin_positive_track_ids = actin_positive_tracks['track_id']\n",
    "\n",
    "# Set 'actin_positive' to True for rows where 'track_id' is in positive_track_ids\n",
    "final_tracks.loc[final_tracks['track_id'].isin(actin_positive_track_ids), 'channel1_positive'] = True\n",
    "\n",
    "actin_rows_count = final_tracks[final_tracks['channel1_positive'] == True].shape[0]\n",
    "print(f'number of {channel1_name} positive tracks are: {actin_rows_count}')\n",
    "\n",
    "# ***Setting dynamin positive tracks to True***\n",
    "\n",
    "# Get the track IDs from actin_positive_tracks\n",
    "dnm2_positive_track_ids = dnm2_positive_tracks['track_id']\n",
    "\n",
    "# Set 'actin_positive' to True for rows where 'track_id' is in positive_track_ids\n",
    "final_tracks.loc[final_tracks['track_id'].isin(dnm2_positive_track_ids), 'channel2_positive'] = True\n",
    "\n",
    "dnm2_rows_count = final_tracks[final_tracks['channel2_positive'] == True].shape[0]\n",
    "print(f'number of {channel2_name} positive tracks are: {dnm2_rows_count}')\n",
    "\n",
    "\n",
    "actin_dnm2_rows_count = final_tracks[(final_tracks['channel2_positive'] == True) & \n",
    "                                     (final_tracks['channel1_positive'] == True)].shape[0]\n",
    "print(f\"number of {channel1_name} and {channel2_name} positive tracks are: {actin_dnm2_rows_count}\")"
   ]
  },
  {
   "cell_type": "markdown",
   "id": "b6c6ab8d",
   "metadata": {},
   "source": [
    "### Estimating Apical/Basal/Lateral boundaries of cell\n",
    "Based on the slices with the most intensity in channel 1"
   ]
  },
  {
   "cell_type": "code",
   "execution_count": 13,
   "id": "4168dfc0",
   "metadata": {},
   "outputs": [
    {
     "data": {
      "text/plain": [
       "<module 'filters' from '/Users/matsulab/Desktop/LLSM-CME-ANALYSIS/Final/Jupyter_Notebooks/../src/filters.py'>"
      ]
     },
     "execution_count": 13,
     "metadata": {},
     "output_type": "execute_result"
    }
   ],
   "source": [
    "import importlib\n",
    "import filters\n",
    "importlib.reload(filters)"
   ]
  },
  {
   "cell_type": "code",
   "execution_count": 14,
   "id": "4a730eb0",
   "metadata": {},
   "outputs": [
    {
     "data": {
      "image/png": "[encoded data removed]",
      "text/plain": [
       "<Figure size 640x480 with 1 Axes>"
      ]
     },
     "metadata": {},
     "output_type": "display_data"
    }
   ],
   "source": [
    "#channel is hard coded in the function right now. Need to allow it to be passed as a parameter by the user \n",
    "if membrane_regions_exist == True:      \n",
    "    boundaries = plot_z_sum_bd(z2)"
   ]
  },
  {
   "cell_type": "markdown",
   "id": "ecb379ec",
   "metadata": {},
   "source": [
    "This Z axis plot shows where the max intensities are, which roughly correspond to the basal and apical regions of the cell.\n",
    "\n",
    "The lines are the auto-detected boundaries between basal, lateral, and apical.  \n",
    "\n",
    "If needed, you can scan through the z series in Napari below to adjust the position of these boundaries."
   ]
  },
  {
   "cell_type": "code",
   "execution_count": 15,
   "id": "ac8b9927",
   "metadata": {},
   "outputs": [
    {
     "name": "stdout",
     "output_type": "stream",
     "text": [
      "Basal-lateral boundary slice is: 26\n",
      "Lateral-apical boundary slice is: 84\n"
     ]
    }
   ],
   "source": [
    "# If ychange the values of the boundaries to the ones you want to use\n",
    "\n",
    "basal_lateral_boundary_slice_manual = []\n",
    "lateral_apical_boundary_slice_manual = []\n",
    "\n",
    "if membrane_regions_exist == True and basal_lateral_boundary_slice_manual:\n",
    "    boundaries = [basal_lateral_boundary_slice_manual, lateral_apical_boundary_slice_manual]\n",
    "    print('Manual basal-lateral boundary slice is:', basal_lateral_boundary_slice_manual)   \n",
    "    print('Manual lateral-apical boundary slice is:', lateral_apical_boundary_slice_manual)\n",
    "\n",
    "else:\n",
    "    print('Basal-lateral boundary slice is:', boundaries[0])   \n",
    "    print('Lateral-apical boundary slice is:', boundaries[1])  \n",
    "\n",
    "\n"
   ]
  },
  {
   "cell_type": "code",
   "execution_count": 16,
   "id": "2b5a1073",
   "metadata": {},
   "outputs": [],
   "source": [
    "if membrane_regions_exist == True: \n",
    "    allocate_membrane_regions(df = final_tracks, basal_range = [0,25] , lateral_range = [25,75], apical_range = [75,112])\n",
    "\n",
    "else: \n",
    "    final_tracks['membrane_region'] = 'Basal'"
   ]
  },
  {
   "cell_type": "markdown",
   "id": "e092596a",
   "metadata": {},
   "source": [
    "Save tracks"
   ]
  },
  {
   "cell_type": "code",
   "execution_count": 17,
   "id": "ddd3f511",
   "metadata": {},
   "outputs": [],
   "source": [
    "final_tracks.to_pickle(output_directory_full)"
   ]
  },
  {
   "cell_type": "markdown",
   "id": "98823324-505d-4c3c-b937-ef323080c7a2",
   "metadata": {},
   "source": [
    "# Visualize tracks in Napari to assess track filtering quality"
   ]
  },
  {
   "cell_type": "code",
   "execution_count": 18,
   "id": "62719e16-1dac-4db9-96b1-8d9362589127",
   "metadata": {},
   "outputs": [
    {
     "name": "stderr",
     "output_type": "stream",
     "text": [
      "/Users/matsulab/miniconda3/envs/cme_pipeline/lib/python3.10/site-packages/napari/layers/tracks/tracks.py:620: UserWarning: Previous color_by key 'track_id_rand' not present in features. Falling back to track_id\n",
      "  warn(\n"
     ]
    }
   ],
   "source": [
    "# Create a napari viewer\n",
    "viewer = napari.Viewer()\n",
    "\n",
    "#access channel 3 only from zarr array \n",
    "dask_array = da.from_zarr(z2)\n",
    "\n",
    "#the axis arrangement is (t,c,z,y,x)\n",
    "#for the sake of improved performance only 1 channel could be imported here (if images get super large and performance issues occur)\n",
    "all_channels = dask_array[:,:,:,:,:]\n",
    "\n",
    "# # Calculate the 1st and 99th percentiles for the 10th time point\n",
    "# lower_limit_1, upper_limit_1 = da.percentile(all_channels[10,0,:,:,:].ravel(), [5, 95]).compute()\n",
    "# lower_limit_2, upper_limit_2 = da.percentile(all_channels[10,1,:,:,:].ravel(), [5, 95]).compute()\n",
    "# lower_limit_3, upper_limit_3 = da.percentile(all_channels[10,2,:,:,:].ravel(), [5, 95]).compute()\n",
    "\n",
    "\n",
    "# # Set the contrast limits\n",
    "\n",
    "# # Add each channel as a separate image layer with its own contrast limits\n",
    "# layer_raw_1 = viewer.add_image(all_channels[0], contrast_limits=[lower_limit_1, upper_limit_1], name='channel 1', colormap='yellow')\n",
    "# layer_raw_2 = viewer.add_image(all_channels[1], contrast_limits=[lower_limit_2, upper_limit_2], name='channel 2', colormap = 'cyan')\n",
    "# layer_raw_3 = viewer.add_image(all_channels[2], contrast_limits=[lower_limit_3, upper_limit_3], name='channel 3', colormap = 'magenta')\n",
    "\n",
    "# Add the 4D stack to the viewer\n",
    "layer_raw = viewer.add_image(all_channels, channel_axis = 1, name = ['channel 1', 'channel 2', 'channel 3'])\n",
    "#other useful parameters \n",
    "#color_map = list\n",
    "#contrast_limits = list of list \n",
    "\n",
    "track_properties = {'number_of_frames': track_df['number_of_frames'].to_numpy(), 'track_id_rand': track_df['color'].to_numpy()}\n",
    "\n",
    "# viewer.add_tracks(track_df[[\"track_id\", \"frame\", \"c3_peak_z\", \"c3_peak_y\", \"c3_peak_x\"]], name = 'all tracks')\n",
    "\n",
    "tracks_layer = viewer.add_tracks(track_df[[\"track_id\", \"frame\", \"c3_peak_z\", \"c3_peak_y\", \"c3_peak_x\"]], name = 'all tracks', properties=track_properties, color_by='track_id_rand', tail_length = 15, tail_width = 2, colormap = 'hsv')\n",
    "\n",
    "# Add Bounding Box\n",
    "layer_raw[0].bounding_box.visible = True\n",
    "layer_raw[1].bounding_box.visible = True\n",
    "layer_raw[2].bounding_box.visible = True\n"
   ]
  },
  {
   "cell_type": "code",
   "execution_count": 19,
   "id": "0ec6dd6b-eeab-47c6-b427-5881a95b43ad",
   "metadata": {},
   "outputs": [
    {
     "data": {
      "text/plain": [
       "<Tracks layer 'channel2+ tracks' at 0x36fcfa500>"
      ]
     },
     "execution_count": 19,
     "metadata": {},
     "output_type": "execute_result"
    }
   ],
   "source": [
    "#Displaying Dynamin Positive tracks only (Tracks where actin is not present)\n",
    "dnm2_positive_tracks_df = final_tracks[(final_tracks['channel2_positive'] == True) & (final_tracks['channel1_positive'] == False)]\n",
    "dnm2_tracks_list = dnm2_positive_tracks_df['track_id'].values\n",
    "track_1 = track_df[track_df['track_id'].isin(dnm2_tracks_list)]\n",
    "viewer.add_tracks(track_1[[\"track_id\", \"frame\", \"c3_peak_z\", \"c3_peak_y\", \"c3_peak_x\"]], name = 'channel2+ tracks')"
   ]
  },
  {
   "cell_type": "code",
   "execution_count": 20,
   "id": "41bb1f4a-bec4-4c77-bf42-7e0d94f1e036",
   "metadata": {},
   "outputs": [
    {
     "data": {
      "text/plain": [
       "<Tracks layer 'channel1+ tracks' at 0x36659ead0>"
      ]
     },
     "execution_count": 20,
     "metadata": {},
     "output_type": "execute_result"
    }
   ],
   "source": [
    "#Displaying Actin Positive tracks only (Tracks where Dynamin is not present)\n",
    "actin_positive_tracks_df = final_tracks[(final_tracks['channel2_positive'] == False) & (final_tracks['channel1_positive'] == True)]\n",
    "actin_tracks_list = actin_positive_tracks_df['track_id'].values\n",
    "track_2 = track_df[track_df['track_id'].isin(actin_tracks_list)]\n",
    "viewer.add_tracks(track_2[[\"track_id\", \"frame\", \"c3_peak_z\", \"c3_peak_y\", \"c3_peak_x\"]], name = 'channel1+ tracks')"
   ]
  },
  {
   "cell_type": "code",
   "execution_count": 21,
   "id": "b6aa5ee9-e2e2-4991-a44f-51b0aff593b5",
   "metadata": {},
   "outputs": [
    {
     "data": {
      "text/plain": [
       "<Tracks layer 'all+ tracks' at 0x36659e920>"
      ]
     },
     "execution_count": 21,
     "metadata": {},
     "output_type": "execute_result"
    }
   ],
   "source": [
    "#Displaying all 3 channels positive tracks \n",
    "all_positive_tracks_df = final_tracks[(final_tracks['channel2_positive'] == True) & (final_tracks['channel1_positive'] == True)]\n",
    "all_positive_tracks_list = all_positive_tracks_df['track_id'].values\n",
    "track_3 = track_df[track_df['track_id'].isin(all_positive_tracks_list)]\n",
    "viewer.add_tracks(track_3[[\"track_id\", \"frame\",\"c3_peak_z\", \"c3_peak_y\", \"c3_peak_x\"]], name = 'all+ tracks')"
   ]
  },
  {
   "cell_type": "code",
   "execution_count": 22,
   "id": "4ea2b818-5720-4fd5-9c89-00e029243988",
   "metadata": {},
   "outputs": [],
   "source": [
    "#Displaying basal tracks \n",
    "if membrane_regions_exist == True: \n",
    "    basal_tracks_df = final_tracks[final_tracks['membrane_region'] == 'Basal']\n",
    "    basal_tracks_list = basal_tracks_df['track_id'].values\n",
    "    track_4 = track_df[track_df['track_id'].isin(basal_tracks_list)]\n",
    "    viewer.add_tracks(track_4[[\"track_id\", \"frame\",\"c3_peak_z\", \"c3_peak_y\", \"c3_peak_x\"]], name = 'basal tracks')"
   ]
  },
  {
   "cell_type": "code",
   "execution_count": 23,
   "id": "44aae7c0-40b0-4914-a762-9b27bfd39af5",
   "metadata": {},
   "outputs": [],
   "source": [
    "#Displaying lateral tracks \n",
    "if membrane_regions_exist == True:\n",
    "    lateral_tracks_df = final_tracks[final_tracks['membrane_region'] == 'Lateral']\n",
    "    lateral_tracks_list = lateral_tracks_df['track_id'].values\n",
    "    track_5 = track_df[track_df['track_id'].isin(lateral_tracks_list)]\n",
    "    viewer.add_tracks(track_5[[\"track_id\", \"frame\", \"c3_peak_z\", \"c3_peak_y\", \"c3_peak_x\"]], name = 'Lateral tracks')"
   ]
  },
  {
   "cell_type": "code",
   "execution_count": 24,
   "id": "76d99053-b93e-470a-8749-b4684bd40c51",
   "metadata": {},
   "outputs": [],
   "source": [
    "#Displaying apical tracks \n",
    "if membrane_regions_exist == True:\n",
    "    apical_tracks_df = final_tracks[final_tracks['membrane_region'] == 'Apical']\n",
    "    apical_tracks_list = apical_tracks_df['track_id'].values\n",
    "    track_6 = track_df[track_df['track_id'].isin(apical_tracks_list)]\n",
    "    viewer.add_tracks(track_6[[\"track_id\", \"frame\", \"c3_peak_z\", \"c3_peak_y\", \"c3_peak_x\"]], name = 'Apical tracks')"
   ]
  },
  {
   "cell_type": "markdown",
   "id": "cb27befc-b298-4b91-9feb-49b84a9d852e",
   "metadata": {},
   "source": [
    "### final_tracks dataframe stores tracks which are at least positive in the channel you tracked."
   ]
  },
  {
   "cell_type": "markdown",
   "id": "ea894221",
   "metadata": {},
   "source": [
    "## Once you have performed this step and have filtered tracks  you can now use the dashboard to test performance of the pipeline and access visualisations. \n",
    "\n",
    "# Go to multipage_dashboard and run app.py "
   ]
  }
 ],
 "metadata": {
  "kernelspec": {
   "display_name": "cme_pipeline",
   "language": "python",
   "name": "python3"
  },
  "language_info": {
   "codemirror_mode": {
    "name": "ipython",
    "version": 3
   },
   "file_extension": ".py",
   "mimetype": "text/x-python",
   "name": "python",
   "nbconvert_exporter": "python",
   "pygments_lexer": "ipython3",
   "version": "3.10.0"
  }
 },
 "nbformat": 4,
 "nbformat_minor": 5
}
