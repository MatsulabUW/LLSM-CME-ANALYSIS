{
 "cells": [
  {
   "cell_type": "markdown",
   "id": "d4009a13",
   "metadata": {},
   "source": [
    "# In this notebook a Tracks Class from filters.py is used to calculate different features of tracks and assist in applying filters accordingly "
   ]
  },
  {
   "cell_type": "code",
   "execution_count": 82,
   "id": "d931927b",
   "metadata": {},
   "outputs": [],
   "source": [
    "import pandas as pd \n",
    "import numpy as np \n",
    "import sys\n",
    "sys.path.append('../src/')\n",
    "from filters import Track, create_tracks_from_dataframe, drop_short_tracks\n",
    "from filters import drop_early_peak_tracks, drop_last_frame_peak_tracks, drop_tracks_below_intensity\n",
    "from filters import plot_z_sum, allocate_membrane_regions, plot_z_sum_bd\n",
    "import napari\n",
    "import zarr\n",
    "import dask.array as da\n",
    "import os"
   ]
  },
  {
   "cell_type": "markdown",
   "id": "d59676f2-b289-4961-a9eb-a3166dbc4922",
   "metadata": {},
   "source": [
    "### Do not change the code in the cell below "
   ]
  },
  {
   "cell_type": "code",
   "execution_count": 83,
   "id": "15d231af-e45a-4420-860a-2858a3301462",
   "metadata": {},
   "outputs": [],
   "source": [
    "# This assumes that your notebook is inside 'Jupyter Notebooks', which is at the same level as 'test_data'\n",
    "base_dir = os.path.join(os.path.dirname(os.path.abspath(\"__file__\")), '..', 'movie_data')\n",
    "\n",
    "zarr_directory = 'zarr_file/all_channels_data'\n",
    "zarr_full_path = os.path.join(base_dir, zarr_directory)\n",
    "\n",
    "input_directory = 'datasets'\n",
    "input_file_name = 'track_df_cleaned_final_full.pkl'\n",
    "input_directory_full = os.path.join(base_dir,input_directory, input_file_name)\n",
    "\n",
    "output_directory = 'datasets'\n",
    "output_file_name = 'filtered_tracks_final.pkl'\n",
    "output_directory_full = os.path.join(base_dir,output_directory, output_file_name)"
   ]
  },
  {
   "cell_type": "code",
   "execution_count": 84,
   "id": "330b03a6",
   "metadata": {},
   "outputs": [],
   "source": [
    "track_df = pd.read_pickle(input_directory_full)\n",
    "\n",
    "z2 = zarr.open(zarr_full_path, mode='r')\n"
   ]
  },
  {
   "cell_type": "markdown",
   "id": "e3923861",
   "metadata": {},
   "source": [
    "Read the instructions below carefully before running the next steps\n",
    "This notebook is designed to extract valid tracks for the following different pairs \n",
    "1. Channel 1, Channel 2 and Channel 3 all positive\n",
    "2. Channel 1 and Channel 3 positive \n",
    "3. Channel 2 and Channel 3 positive \n",
    "\n",
    "To come up with the correct tracks multiple user input are needed. \n",
    "\n",
    "Parameters required to update\n",
    "1. **threshold** in drop_short_tracks():  Tracks with length below and including this threshold value are dopped \n",
    "2. **cutoff** in drop_early_peak_tracks(): This looks at the frame on which peak value of the amplitude/intensity of a track for a specific channel is reached. If cutoff is 3, the track which have peak for a specific channel below or at the third frame will not be considered as positive for that channel. This step is done for all the channels. \n",
    "3. **threshold** in drop_tracks_below_intensity(): This is the minimum intensity value that a specific channel within a track must achieve to be considered positive for that channel. You can link this to spot_intensity from notebook 01. Where anything below spot_intensity is considered as noise, likewise for threshold if a spot does not reach a specific intensity for a specific channel it means that the track is not positive in that channel and its only noise. This step is done for the two channels apart from the one on which detection is performed. For example in this case detection is performed on channel 3 so **drop_tracks_below_intensity()** needs to be perfomed on channel 1 and channel 2. The threshold value for both channels will be different and can be decided through visualisation in Napari. \n",
    "\n",
    "\n",
    "Lastly, this notebook allows you to set assign membrane region to the tracks (apical,basal,lateral), if your cell has any. If you cell does not then it will assign all tracks to basal region and you can ignore this column in the next steps. "
   ]
  },
  {
   "cell_type": "code",
   "execution_count": 85,
   "id": "6c6e9526",
   "metadata": {},
   "outputs": [],
   "source": [
    "# Setup the parameters in this step \n",
    "\n",
    "threshold_length = 3 # this is the first threshold explained above \n",
    "peak_cutoff = 3 # this is the second parameter explained above \n",
    "threshold_intensity_channel_1 = 240 # this is the the third parameter explained above \n",
    "threshold_intensity_channel_2 = 150 # this is the the third parameter explained above \n",
    "\n",
    "\n",
    "membrane_regions_exist = True # set this to false if no membrane regions exist \n"
   ]
  },
  {
   "cell_type": "code",
   "execution_count": 86,
   "id": "0e353817",
   "metadata": {},
   "outputs": [],
   "source": [
    "tracks = create_tracks_from_dataframe(df = track_df, intensities_col_name = ['c3_gaussian_amp', 'c2_gaussian_amp', 'c1_gaussian_amp'], \n",
    "track_id_col_name = 'track_id', frame_col_name = 'frame', coords = ['c3_mu_x', 'c3_mu_y', 'c3_mu_z'])"
   ]
  },
  {
   "cell_type": "code",
   "execution_count": 87,
   "id": "c4bb771a",
   "metadata": {},
   "outputs": [],
   "source": [
    "# Create DataFrame from Track instances\n",
    "tracks_data = {\n",
    "    'track_id': [track.track_id.values[0] for track in tracks],\n",
    "    'track_length': [track.track_length for track in tracks],\n",
    "    'track_start': [track.track_start for track in tracks],\n",
    "    'track_end': [track.track_end for track in tracks],\n",
    "    'c3_peak': [track.peak_intensities[0] for track in tracks],\n",
    "    'c2_peak': [track.peak_intensities[1] for track in tracks],\n",
    "    'c1_peak': [track.peak_intensities[2] for track in tracks],\n",
    "    'c3_peak_frame': [track.peak_intensity_frames[0] for track in tracks],\n",
    "    'c2_peak_frame': [track.peak_intensity_frames[1] for track in tracks],\n",
    "    'c1_peak_frame': [track.peak_intensity_frames[2] for track in tracks],\n",
    "    'mean_displacement': [track.mean_displacement_track for track in tracks],\n",
    "    'mean_z': [track.mean_z_value for track in tracks],\n",
    "    'mean_z_displacement': [track.mean_z_displacement for track in tracks], \n",
    "    'max_radius_from_origin': [track.max_radius_from_origin for track in tracks], \n",
    "    'max_distance_between_two_points': [track.max_distance_between_two_points for track in tracks], \n",
    "    'C3_adjusted_voxel_sum_positive': [track.adjusted_voxel_sum[0] for track in tracks],\n",
    "    'C2_adjusted_voxel_sum_positive': [track.adjusted_voxel_sum[1] for track in tracks],\n",
    "    'C1_adjusted_voxel_sum_positive': [track.adjusted_voxel_sum[2] for track in tracks],\n",
    "    'max_z_movement': [track.max_z_movement for track in tracks],\n",
    "    'max_y_movement': [track.max_y_movement for track in tracks],\n",
    "    'max_x_movement': [track.max_x_movement for track in tracks],\n",
    "}\n",
    "\n",
    "tracks_df = pd.DataFrame(tracks_data)"
   ]
  },
  {
   "cell_type": "markdown",
   "id": "6dc53d8a",
   "metadata": {},
   "source": [
    "# DROPPING SHORT TRACKS "
   ]
  },
  {
   "cell_type": "code",
   "execution_count": 88,
   "id": "9421ded0",
   "metadata": {},
   "outputs": [],
   "source": [
    "#dropping tracks of length 3 and below\n",
    "length_filtered_tracks_df = drop_short_tracks(df = tracks_df, threshold = threshold_length)"
   ]
  },
  {
   "cell_type": "code",
   "execution_count": 89,
   "id": "25b6d86f",
   "metadata": {},
   "outputs": [
    {
     "data": {
      "text/html": [
       "<div>\n",
       "<style scoped>\n",
       "    .dataframe tbody tr th:only-of-type {\n",
       "        vertical-align: middle;\n",
       "    }\n",
       "\n",
       "    .dataframe tbody tr th {\n",
       "        vertical-align: top;\n",
       "    }\n",
       "\n",
       "    .dataframe thead th {\n",
       "        text-align: right;\n",
       "    }\n",
       "</style>\n",
       "<table border=\"1\" class=\"dataframe\">\n",
       "  <thead>\n",
       "    <tr style=\"text-align: right;\">\n",
       "      <th></th>\n",
       "      <th>track_id</th>\n",
       "      <th>track_length</th>\n",
       "      <th>track_start</th>\n",
       "      <th>track_end</th>\n",
       "      <th>c3_peak</th>\n",
       "      <th>c2_peak</th>\n",
       "      <th>c1_peak</th>\n",
       "      <th>c3_peak_frame</th>\n",
       "      <th>c2_peak_frame</th>\n",
       "      <th>c1_peak_frame</th>\n",
       "      <th>...</th>\n",
       "      <th>mean_z</th>\n",
       "      <th>mean_z_displacement</th>\n",
       "      <th>max_radius_from_origin</th>\n",
       "      <th>max_distance_between_two_points</th>\n",
       "      <th>C3_adjusted_voxel_sum_positive</th>\n",
       "      <th>C2_adjusted_voxel_sum_positive</th>\n",
       "      <th>C1_adjusted_voxel_sum_positive</th>\n",
       "      <th>max_z_movement</th>\n",
       "      <th>max_y_movement</th>\n",
       "      <th>max_x_movement</th>\n",
       "    </tr>\n",
       "  </thead>\n",
       "  <tbody>\n",
       "    <tr>\n",
       "      <th>6153</th>\n",
       "      <td>6153</td>\n",
       "      <td>1</td>\n",
       "      <td>1</td>\n",
       "      <td>1</td>\n",
       "      <td>177.000000</td>\n",
       "      <td>130.000000</td>\n",
       "      <td>186.521479</td>\n",
       "      <td>1</td>\n",
       "      <td>1</td>\n",
       "      <td>1</td>\n",
       "      <td>...</td>\n",
       "      <td>2.0</td>\n",
       "      <td>NaN</td>\n",
       "      <td>0.000000</td>\n",
       "      <td>0.000000</td>\n",
       "      <td>True</td>\n",
       "      <td>False</td>\n",
       "      <td>False</td>\n",
       "      <td>0.0</td>\n",
       "      <td>0.0</td>\n",
       "      <td>0.0</td>\n",
       "    </tr>\n",
       "    <tr>\n",
       "      <th>6154</th>\n",
       "      <td>6154</td>\n",
       "      <td>1</td>\n",
       "      <td>1</td>\n",
       "      <td>1</td>\n",
       "      <td>182.000000</td>\n",
       "      <td>129.648841</td>\n",
       "      <td>168.303605</td>\n",
       "      <td>1</td>\n",
       "      <td>1</td>\n",
       "      <td>1</td>\n",
       "      <td>...</td>\n",
       "      <td>3.0</td>\n",
       "      <td>NaN</td>\n",
       "      <td>0.000000</td>\n",
       "      <td>0.000000</td>\n",
       "      <td>False</td>\n",
       "      <td>True</td>\n",
       "      <td>True</td>\n",
       "      <td>0.0</td>\n",
       "      <td>0.0</td>\n",
       "      <td>0.0</td>\n",
       "    </tr>\n",
       "    <tr>\n",
       "      <th>6155</th>\n",
       "      <td>6155</td>\n",
       "      <td>1</td>\n",
       "      <td>1</td>\n",
       "      <td>1</td>\n",
       "      <td>181.000000</td>\n",
       "      <td>147.000000</td>\n",
       "      <td>233.000000</td>\n",
       "      <td>1</td>\n",
       "      <td>1</td>\n",
       "      <td>1</td>\n",
       "      <td>...</td>\n",
       "      <td>3.0</td>\n",
       "      <td>NaN</td>\n",
       "      <td>0.000000</td>\n",
       "      <td>0.000000</td>\n",
       "      <td>False</td>\n",
       "      <td>True</td>\n",
       "      <td>True</td>\n",
       "      <td>0.0</td>\n",
       "      <td>0.0</td>\n",
       "      <td>0.0</td>\n",
       "    </tr>\n",
       "    <tr>\n",
       "      <th>6156</th>\n",
       "      <td>6156</td>\n",
       "      <td>1</td>\n",
       "      <td>1</td>\n",
       "      <td>1</td>\n",
       "      <td>195.000000</td>\n",
       "      <td>124.333333</td>\n",
       "      <td>179.000000</td>\n",
       "      <td>1</td>\n",
       "      <td>1</td>\n",
       "      <td>1</td>\n",
       "      <td>...</td>\n",
       "      <td>2.0</td>\n",
       "      <td>NaN</td>\n",
       "      <td>0.000000</td>\n",
       "      <td>0.000000</td>\n",
       "      <td>True</td>\n",
       "      <td>False</td>\n",
       "      <td>False</td>\n",
       "      <td>0.0</td>\n",
       "      <td>0.0</td>\n",
       "      <td>0.0</td>\n",
       "    </tr>\n",
       "    <tr>\n",
       "      <th>6157</th>\n",
       "      <td>6157</td>\n",
       "      <td>2</td>\n",
       "      <td>1</td>\n",
       "      <td>2</td>\n",
       "      <td>188.333333</td>\n",
       "      <td>163.333333</td>\n",
       "      <td>195.000000</td>\n",
       "      <td>2</td>\n",
       "      <td>1</td>\n",
       "      <td>1</td>\n",
       "      <td>...</td>\n",
       "      <td>4.5</td>\n",
       "      <td>1.0</td>\n",
       "      <td>3.162278</td>\n",
       "      <td>3.162278</td>\n",
       "      <td>False</td>\n",
       "      <td>False</td>\n",
       "      <td>False</td>\n",
       "      <td>1.0</td>\n",
       "      <td>0.0</td>\n",
       "      <td>3.0</td>\n",
       "    </tr>\n",
       "    <tr>\n",
       "      <th>...</th>\n",
       "      <td>...</td>\n",
       "      <td>...</td>\n",
       "      <td>...</td>\n",
       "      <td>...</td>\n",
       "      <td>...</td>\n",
       "      <td>...</td>\n",
       "      <td>...</td>\n",
       "      <td>...</td>\n",
       "      <td>...</td>\n",
       "      <td>...</td>\n",
       "      <td>...</td>\n",
       "      <td>...</td>\n",
       "      <td>...</td>\n",
       "      <td>...</td>\n",
       "      <td>...</td>\n",
       "      <td>...</td>\n",
       "      <td>...</td>\n",
       "      <td>...</td>\n",
       "      <td>...</td>\n",
       "      <td>...</td>\n",
       "      <td>...</td>\n",
       "    </tr>\n",
       "    <tr>\n",
       "      <th>207568</th>\n",
       "      <td>207568</td>\n",
       "      <td>1</td>\n",
       "      <td>128</td>\n",
       "      <td>128</td>\n",
       "      <td>178.855280</td>\n",
       "      <td>157.268690</td>\n",
       "      <td>329.000000</td>\n",
       "      <td>128</td>\n",
       "      <td>128</td>\n",
       "      <td>128</td>\n",
       "      <td>...</td>\n",
       "      <td>104.0</td>\n",
       "      <td>NaN</td>\n",
       "      <td>0.000000</td>\n",
       "      <td>0.000000</td>\n",
       "      <td>True</td>\n",
       "      <td>True</td>\n",
       "      <td>True</td>\n",
       "      <td>0.0</td>\n",
       "      <td>0.0</td>\n",
       "      <td>0.0</td>\n",
       "    </tr>\n",
       "    <tr>\n",
       "      <th>207572</th>\n",
       "      <td>207572</td>\n",
       "      <td>1</td>\n",
       "      <td>128</td>\n",
       "      <td>128</td>\n",
       "      <td>192.005608</td>\n",
       "      <td>153.157487</td>\n",
       "      <td>298.460010</td>\n",
       "      <td>128</td>\n",
       "      <td>128</td>\n",
       "      <td>128</td>\n",
       "      <td>...</td>\n",
       "      <td>108.0</td>\n",
       "      <td>NaN</td>\n",
       "      <td>0.000000</td>\n",
       "      <td>0.000000</td>\n",
       "      <td>True</td>\n",
       "      <td>True</td>\n",
       "      <td>True</td>\n",
       "      <td>0.0</td>\n",
       "      <td>0.0</td>\n",
       "      <td>0.0</td>\n",
       "    </tr>\n",
       "    <tr>\n",
       "      <th>207573</th>\n",
       "      <td>207573</td>\n",
       "      <td>1</td>\n",
       "      <td>128</td>\n",
       "      <td>128</td>\n",
       "      <td>197.000000</td>\n",
       "      <td>130.975248</td>\n",
       "      <td>199.000000</td>\n",
       "      <td>128</td>\n",
       "      <td>128</td>\n",
       "      <td>128</td>\n",
       "      <td>...</td>\n",
       "      <td>108.0</td>\n",
       "      <td>NaN</td>\n",
       "      <td>0.000000</td>\n",
       "      <td>0.000000</td>\n",
       "      <td>True</td>\n",
       "      <td>False</td>\n",
       "      <td>False</td>\n",
       "      <td>0.0</td>\n",
       "      <td>0.0</td>\n",
       "      <td>0.0</td>\n",
       "    </tr>\n",
       "    <tr>\n",
       "      <th>207575</th>\n",
       "      <td>207575</td>\n",
       "      <td>1</td>\n",
       "      <td>128</td>\n",
       "      <td>128</td>\n",
       "      <td>184.000000</td>\n",
       "      <td>154.617944</td>\n",
       "      <td>353.065593</td>\n",
       "      <td>128</td>\n",
       "      <td>128</td>\n",
       "      <td>128</td>\n",
       "      <td>...</td>\n",
       "      <td>108.0</td>\n",
       "      <td>NaN</td>\n",
       "      <td>0.000000</td>\n",
       "      <td>0.000000</td>\n",
       "      <td>True</td>\n",
       "      <td>True</td>\n",
       "      <td>True</td>\n",
       "      <td>0.0</td>\n",
       "      <td>0.0</td>\n",
       "      <td>0.0</td>\n",
       "    </tr>\n",
       "    <tr>\n",
       "      <th>207576</th>\n",
       "      <td>207576</td>\n",
       "      <td>1</td>\n",
       "      <td>128</td>\n",
       "      <td>128</td>\n",
       "      <td>330.104840</td>\n",
       "      <td>305.000000</td>\n",
       "      <td>1468.000000</td>\n",
       "      <td>128</td>\n",
       "      <td>128</td>\n",
       "      <td>128</td>\n",
       "      <td>...</td>\n",
       "      <td>107.0</td>\n",
       "      <td>NaN</td>\n",
       "      <td>0.000000</td>\n",
       "      <td>0.000000</td>\n",
       "      <td>True</td>\n",
       "      <td>True</td>\n",
       "      <td>True</td>\n",
       "      <td>0.0</td>\n",
       "      <td>0.0</td>\n",
       "      <td>0.0</td>\n",
       "    </tr>\n",
       "  </tbody>\n",
       "</table>\n",
       "<p>199174 rows × 21 columns</p>\n",
       "</div>"
      ],
      "text/plain": [
       "        track_id  track_length  track_start  track_end     c3_peak  \\\n",
       "6153        6153             1            1          1  177.000000   \n",
       "6154        6154             1            1          1  182.000000   \n",
       "6155        6155             1            1          1  181.000000   \n",
       "6156        6156             1            1          1  195.000000   \n",
       "6157        6157             2            1          2  188.333333   \n",
       "...          ...           ...          ...        ...         ...   \n",
       "207568    207568             1          128        128  178.855280   \n",
       "207572    207572             1          128        128  192.005608   \n",
       "207573    207573             1          128        128  197.000000   \n",
       "207575    207575             1          128        128  184.000000   \n",
       "207576    207576             1          128        128  330.104840   \n",
       "\n",
       "           c2_peak      c1_peak  c3_peak_frame  c2_peak_frame  c1_peak_frame  \\\n",
       "6153    130.000000   186.521479              1              1              1   \n",
       "6154    129.648841   168.303605              1              1              1   \n",
       "6155    147.000000   233.000000              1              1              1   \n",
       "6156    124.333333   179.000000              1              1              1   \n",
       "6157    163.333333   195.000000              2              1              1   \n",
       "...            ...          ...            ...            ...            ...   \n",
       "207568  157.268690   329.000000            128            128            128   \n",
       "207572  153.157487   298.460010            128            128            128   \n",
       "207573  130.975248   199.000000            128            128            128   \n",
       "207575  154.617944   353.065593            128            128            128   \n",
       "207576  305.000000  1468.000000            128            128            128   \n",
       "\n",
       "        ...  mean_z  mean_z_displacement  max_radius_from_origin  \\\n",
       "6153    ...     2.0                  NaN                0.000000   \n",
       "6154    ...     3.0                  NaN                0.000000   \n",
       "6155    ...     3.0                  NaN                0.000000   \n",
       "6156    ...     2.0                  NaN                0.000000   \n",
       "6157    ...     4.5                  1.0                3.162278   \n",
       "...     ...     ...                  ...                     ...   \n",
       "207568  ...   104.0                  NaN                0.000000   \n",
       "207572  ...   108.0                  NaN                0.000000   \n",
       "207573  ...   108.0                  NaN                0.000000   \n",
       "207575  ...   108.0                  NaN                0.000000   \n",
       "207576  ...   107.0                  NaN                0.000000   \n",
       "\n",
       "        max_distance_between_two_points  C3_adjusted_voxel_sum_positive  \\\n",
       "6153                           0.000000                            True   \n",
       "6154                           0.000000                           False   \n",
       "6155                           0.000000                           False   \n",
       "6156                           0.000000                            True   \n",
       "6157                           3.162278                           False   \n",
       "...                                 ...                             ...   \n",
       "207568                         0.000000                            True   \n",
       "207572                         0.000000                            True   \n",
       "207573                         0.000000                            True   \n",
       "207575                         0.000000                            True   \n",
       "207576                         0.000000                            True   \n",
       "\n",
       "        C2_adjusted_voxel_sum_positive  C1_adjusted_voxel_sum_positive  \\\n",
       "6153                             False                           False   \n",
       "6154                              True                            True   \n",
       "6155                              True                            True   \n",
       "6156                             False                           False   \n",
       "6157                             False                           False   \n",
       "...                                ...                             ...   \n",
       "207568                            True                            True   \n",
       "207572                            True                            True   \n",
       "207573                           False                           False   \n",
       "207575                            True                            True   \n",
       "207576                            True                            True   \n",
       "\n",
       "        max_z_movement  max_y_movement  max_x_movement  \n",
       "6153               0.0             0.0             0.0  \n",
       "6154               0.0             0.0             0.0  \n",
       "6155               0.0             0.0             0.0  \n",
       "6156               0.0             0.0             0.0  \n",
       "6157               1.0             0.0             3.0  \n",
       "...                ...             ...             ...  \n",
       "207568             0.0             0.0             0.0  \n",
       "207572             0.0             0.0             0.0  \n",
       "207573             0.0             0.0             0.0  \n",
       "207575             0.0             0.0             0.0  \n",
       "207576             0.0             0.0             0.0  \n",
       "\n",
       "[199174 rows x 21 columns]"
      ]
     },
     "execution_count": 89,
     "metadata": {},
     "output_type": "execute_result"
    }
   ],
   "source": [
    "# Drop incomplete tracks (starting at first frame or ending at last frame)\n",
    "incomplete_tracks_df = tracks_df.loc[(tracks_df['track_start'] == 0) | (tracks_df['track_end'] == track_df['frame'].max())]\n",
    "tracks_df = tracks_df.drop(incomplete_tracks_df.index)\n",
    "tracks_df"
   ]
  },
  {
   "cell_type": "markdown",
   "id": "45094290",
   "metadata": {},
   "source": [
    "## Determining Valid Channel 3 tracks "
   ]
  },
  {
   "cell_type": "markdown",
   "id": "9066f6be",
   "metadata": {},
   "source": [
    "### Dropping tracks with Clathrin (Channel 3 peak in the last frame)"
   ]
  },
  {
   "cell_type": "code",
   "execution_count": 90,
   "id": "1169ea32",
   "metadata": {},
   "outputs": [],
   "source": [
    "valid_c3_tracks = drop_last_frame_peak_tracks(df = length_filtered_tracks_df, intensity_col = 'c3_peak_frame')"
   ]
  },
  {
   "cell_type": "markdown",
   "id": "facbb415",
   "metadata": {},
   "source": [
    "### Dropping tracks with Clathrin (Channel 3) which have their peaks in the first three frames "
   ]
  },
  {
   "cell_type": "code",
   "execution_count": 91,
   "id": "0bc6c92c",
   "metadata": {},
   "outputs": [],
   "source": [
    "valid_c3_tracks = drop_early_peak_tracks(df = valid_c3_tracks, intensity_peak_frame = 'c3_peak_frame', \n",
    "                                      cutoff = peak_cutoff)"
   ]
  },
  {
   "cell_type": "markdown",
   "id": "02b1b4fd",
   "metadata": {},
   "source": [
    "**valid_c3_tracks will serve as baseline clathrin positive and valid tracks**"
   ]
  },
  {
   "cell_type": "markdown",
   "id": "21b05eef",
   "metadata": {},
   "source": [
    "# Filtering for Channel 2 (Dynamin)"
   ]
  },
  {
   "cell_type": "markdown",
   "id": "3749656c",
   "metadata": {},
   "source": [
    "## Filter 1 \n",
    "### Identifying Dynamin Positive Tracks "
   ]
  },
  {
   "cell_type": "code",
   "execution_count": 92,
   "id": "29e01a63",
   "metadata": {},
   "outputs": [
    {
     "data": {
      "text/plain": [
       "(9794, 21)"
      ]
     },
     "execution_count": 92,
     "metadata": {},
     "output_type": "execute_result"
    }
   ],
   "source": [
    "dnm2_positive_tracks = drop_tracks_below_intensity(df = valid_c3_tracks, threshold = threshold_intensity_channel_2, \n",
    "                                          intensity_peak_frame = 'c2_peak')\n",
    "dnm2_positive_tracks.shape"
   ]
  },
  {
   "cell_type": "markdown",
   "id": "bba86841",
   "metadata": {},
   "source": [
    "## Filter 2\n",
    "### Filter tracks based on channel 2 peak if occurs within 3 frames of starting of a track "
   ]
  },
  {
   "cell_type": "code",
   "execution_count": 93,
   "id": "883f14e9",
   "metadata": {},
   "outputs": [
    {
     "data": {
      "text/plain": [
       "(6332, 21)"
      ]
     },
     "execution_count": 93,
     "metadata": {},
     "output_type": "execute_result"
    }
   ],
   "source": [
    "dnm2_positive_tracks = drop_early_peak_tracks(df = dnm2_positive_tracks, intensity_peak_frame = 'c2_peak_frame', \n",
    "                                      cutoff = peak_cutoff)\n",
    "dnm2_positive_tracks.shape"
   ]
  },
  {
   "cell_type": "markdown",
   "id": "dc43c165",
   "metadata": {},
   "source": [
    "## Filter 3\n",
    "### Filter tracks based on channel 2 peaks occuring in the last frame "
   ]
  },
  {
   "cell_type": "code",
   "execution_count": 94,
   "id": "f4d171c3",
   "metadata": {},
   "outputs": [
    {
     "data": {
      "text/plain": [
       "(5332, 21)"
      ]
     },
     "execution_count": 94,
     "metadata": {},
     "output_type": "execute_result"
    }
   ],
   "source": [
    "dnm2_positive_tracks = drop_last_frame_peak_tracks(df = dnm2_positive_tracks, intensity_col = 'c2_peak_frame')\n",
    "dnm2_positive_tracks.shape"
   ]
  },
  {
   "cell_type": "markdown",
   "id": "188cbf7d",
   "metadata": {},
   "source": [
    "**dnm2_positive_tracks will serve as the baseline for dynamin positive tracks**"
   ]
  },
  {
   "cell_type": "markdown",
   "id": "30ace9e8",
   "metadata": {},
   "source": [
    "# Identifying Channel 1 (Actin) positive tracks "
   ]
  },
  {
   "cell_type": "markdown",
   "id": "a3936dd8",
   "metadata": {},
   "source": [
    "## Filter 1 \n",
    "### Identifying Actin Positive Tracks "
   ]
  },
  {
   "cell_type": "code",
   "execution_count": 95,
   "id": "b90e51d2",
   "metadata": {},
   "outputs": [],
   "source": [
    "actin_positive_tracks = drop_tracks_below_intensity(df = valid_c3_tracks, threshold = threshold_intensity_channel_1, \n",
    "                                          intensity_peak_frame = 'c1_peak' )"
   ]
  },
  {
   "cell_type": "markdown",
   "id": "2c08e7c6",
   "metadata": {},
   "source": [
    "## Filter 2 \n",
    "### Filter tracks based on channel 1 peaks if occurs within the first 3 frames "
   ]
  },
  {
   "cell_type": "code",
   "execution_count": 96,
   "id": "8032c37e",
   "metadata": {},
   "outputs": [],
   "source": [
    "actin_positive_tracks = drop_early_peak_tracks(df = actin_positive_tracks, intensity_peak_frame = 'c1_peak_frame', \n",
    "                                      cutoff = peak_cutoff)"
   ]
  },
  {
   "cell_type": "markdown",
   "id": "002e256c",
   "metadata": {},
   "source": [
    "## Filter 3\n",
    "### Filter tracks based on channel 1 peaks occuring in the last frame "
   ]
  },
  {
   "cell_type": "code",
   "execution_count": 97,
   "id": "4a8a76c8",
   "metadata": {},
   "outputs": [],
   "source": [
    "actin_positive_tracks = drop_last_frame_peak_tracks(df = actin_positive_tracks, intensity_col = 'c1_peak_frame')"
   ]
  },
  {
   "cell_type": "markdown",
   "id": "d9da1df2",
   "metadata": {},
   "source": [
    "# Combining actin and dynamin positive tracks with valid clathrin positive tracks "
   ]
  },
  {
   "cell_type": "code",
   "execution_count": 98,
   "id": "1e42300b",
   "metadata": {},
   "outputs": [],
   "source": [
    "final_tracks = valid_c3_tracks.copy(deep = True)\n",
    "final_tracks['channel2_positive'] = False \n",
    "final_tracks['channel1_positive'] = False "
   ]
  },
  {
   "cell_type": "markdown",
   "id": "d8be32e5",
   "metadata": {},
   "source": [
    "***Setting actin positive tracks to True***"
   ]
  },
  {
   "cell_type": "code",
   "execution_count": 99,
   "id": "73c6d973",
   "metadata": {},
   "outputs": [
    {
     "name": "stdout",
     "output_type": "stream",
     "text": [
      "number of actin positive tracks are: 4745\n"
     ]
    }
   ],
   "source": [
    "# Get the track IDs from actin_positive_tracks\n",
    "actin_positive_track_ids = actin_positive_tracks['track_id']\n",
    "\n",
    "# Set 'actin_positive' to True for rows where 'track_id' is in positive_track_ids\n",
    "final_tracks.loc[final_tracks['track_id'].isin(actin_positive_track_ids), 'channel1_positive'] = True\n",
    "\n",
    "actin_rows_count = final_tracks[final_tracks['channel1_positive'] == True].shape[0]\n",
    "print(f'number of actin positive tracks are: {actin_rows_count}')"
   ]
  },
  {
   "cell_type": "markdown",
   "id": "29c8c154",
   "metadata": {},
   "source": [
    "***Setting dynamin positive tracks to True***"
   ]
  },
  {
   "cell_type": "code",
   "execution_count": 100,
   "id": "8507c23b",
   "metadata": {},
   "outputs": [
    {
     "name": "stdout",
     "output_type": "stream",
     "text": [
      "number of dynamin positive tracks are: 5332\n"
     ]
    }
   ],
   "source": [
    "# Get the track IDs from actin_positive_tracks\n",
    "dnm2_positive_track_ids = dnm2_positive_tracks['track_id']\n",
    "\n",
    "# Set 'actin_positive' to True for rows where 'track_id' is in positive_track_ids\n",
    "final_tracks.loc[final_tracks['track_id'].isin(dnm2_positive_track_ids), 'channel2_positive'] = True\n",
    "\n",
    "dnm2_rows_count = final_tracks[final_tracks['channel2_positive'] == True].shape[0]\n",
    "print(f'number of dynamin positive tracks are: {dnm2_rows_count}')"
   ]
  },
  {
   "cell_type": "code",
   "execution_count": 101,
   "id": "3b0459fb",
   "metadata": {},
   "outputs": [
    {
     "name": "stdout",
     "output_type": "stream",
     "text": [
      "number of dynamin and actin positive tracks are: 2850\n"
     ]
    }
   ],
   "source": [
    "actin_dnm2_rows_count = final_tracks[(final_tracks['channel2_positive'] == True) & \n",
    "                                     (final_tracks['channel1_positive'] == True)].shape[0]\n",
    "print(f'number of dynamin and actin positive tracks are: {actin_dnm2_rows_count}')"
   ]
  },
  {
   "cell_type": "markdown",
   "id": "b6c6ab8d",
   "metadata": {},
   "source": [
    "# Allocating Apical/Basal/Lateral boundaries to tracks\n",
    "Using channel 1 (actin) for this purpose "
   ]
  },
  {
   "cell_type": "code",
   "execution_count": 102,
   "id": "4a730eb0",
   "metadata": {},
   "outputs": [
    {
     "data": {
      "image/png": "[encoded data removed]",
      "text/plain": [
       "<Figure size 640x480 with 1 Axes>"
      ]
     },
     "metadata": {},
     "output_type": "display_data"
    }
   ],
   "source": [
    "#channel is hard coded in the function right now. Need to allow it to be passed as a parameter by the user \n",
    "if membrane_regions_exist == True:      \n",
    "    plot_z_sum_bd(z2)"
   ]
  },
  {
   "cell_type": "markdown",
   "id": "ecb379ec",
   "metadata": {},
   "source": [
    "This Z axis plot shows where the max intensities are, which roughly correspond to the basal and apical regions of the cell. \n",
    "Use this plot and scan through the z series in Napari below to determine the cutoff Z slice values for basal, lateral, and apical regions of the cell"
   ]
  },
  {
   "cell_type": "code",
   "execution_count": 104,
   "id": "2b5a1073",
   "metadata": {},
   "outputs": [],
   "source": [
    "if membrane_regions_exist == True: \n",
    "    allocate_membrane_regions(df = final_tracks, basal_range = [0,25] , lateral_range = [25,83], apical_range = [83,112])\n",
    "\n",
    "else: \n",
    "    final_tracks['membrane_region'] = 'Basal'"
   ]
  },
  {
   "cell_type": "markdown",
   "id": "98823324-505d-4c3c-b937-ef323080c7a2",
   "metadata": {},
   "source": [
    "# Visualising tracks in Napari "
   ]
  },
  {
   "cell_type": "code",
   "execution_count": 106,
   "id": "62719e16-1dac-4db9-96b1-8d9362589127",
   "metadata": {},
   "outputs": [
    {
     "data": {
      "text/plain": [
       "<Tracks layer 'all tracks' at 0x1f21a8f70>"
      ]
     },
     "execution_count": 106,
     "metadata": {},
     "output_type": "execute_result"
    }
   ],
   "source": [
    "# Create a napari viewer\n",
    "viewer = napari.Viewer()\n",
    "\n",
    "#access channel 3 only from zarr array \n",
    "dask_array = da.from_zarr(z2)\n",
    "\n",
    "#the axis arrangement is (t,c,z,y,x)\n",
    "#for the sake of improved performance only 1 channel could be imported here (if images get super large and performance issues occur)\n",
    "all_channels = dask_array[:,:,:,4:2050,:]\n",
    "\n",
    "# Add the 4D stack to the viewer\n",
    "layer_raw = viewer.add_image(all_channels, channel_axis = 1, name = ['channel 1', 'channel 2', 'channel 3'])\n",
    "#other useful parameters \n",
    "#color_map = list\n",
    "#contrast_limits = list of list \n",
    "\n",
    "# Add Bounding Box\n",
    "layer_raw[0].bounding_box.visible = True\n",
    "layer_raw[1].bounding_box.visible = True\n",
    "layer_raw[2].bounding_box.visible = True\n",
    "\n",
    "viewer.add_tracks(track_df[[\"track_id\", \"frame\", \"c3_mu_z\", \"c3_mu_y\", \"c3_mu_x\"]], name = 'all tracks')"
   ]
  },
  {
   "cell_type": "code",
   "execution_count": 75,
   "id": "0ec6dd6b-eeab-47c6-b427-5881a95b43ad",
   "metadata": {},
   "outputs": [
    {
     "data": {
      "text/plain": [
       "<Tracks layer 'channel2+ tracks' at 0x1abee3cd0>"
      ]
     },
     "execution_count": 75,
     "metadata": {},
     "output_type": "execute_result"
    }
   ],
   "source": [
    "#Displaying Dynamin Positive tracks only (Tracks where actin is not present)\n",
    "dnm2_positive_tracks_df = final_tracks[(final_tracks['channel2_positive'] == True) & (final_tracks['channel1_positive'] == False)]\n",
    "dnm2_tracks_list = dnm2_positive_tracks_df['track_id'].values\n",
    "track_1 = track_df[track_df['track_id'].isin(dnm2_tracks_list)]\n",
    "viewer.add_tracks(track_1[[\"track_id\", \"frame\", \"c3_mu_z\", \"c3_mu_y\", \"c3_mu_x\"]], name = 'channel2+ tracks')"
   ]
  },
  {
   "cell_type": "code",
   "execution_count": 76,
   "id": "41bb1f4a-bec4-4c77-bf42-7e0d94f1e036",
   "metadata": {},
   "outputs": [
    {
     "data": {
      "text/plain": [
       "<Tracks layer 'channel1+ tracks' at 0x1dd664fa0>"
      ]
     },
     "execution_count": 76,
     "metadata": {},
     "output_type": "execute_result"
    }
   ],
   "source": [
    "#Displaying Actin Positive tracks only (Tracks where Dynamin is not present)\n",
    "actin_positive_tracks_df = final_tracks[(final_tracks['channel2_positive'] == False) & (final_tracks['channel1_positive'] == True)]\n",
    "actin_tracks_list = actin_positive_tracks_df['track_id'].values\n",
    "track_2 = track_df[track_df['track_id'].isin(actin_tracks_list)]\n",
    "viewer.add_tracks(track_2[[\"track_id\", \"frame\", \"c3_mu_z\", \"c3_mu_y\", \"c3_mu_x\"]], name = 'channel1+ tracks')"
   ]
  },
  {
   "cell_type": "code",
   "execution_count": 77,
   "id": "b6aa5ee9-e2e2-4991-a44f-51b0aff593b5",
   "metadata": {},
   "outputs": [
    {
     "data": {
      "text/plain": [
       "<Tracks layer 'all+ tracks' at 0x1acb93160>"
      ]
     },
     "execution_count": 77,
     "metadata": {},
     "output_type": "execute_result"
    }
   ],
   "source": [
    "#Displaying all 3 channels positive tracks \n",
    "all_positive_tracks_df = final_tracks[(final_tracks['channel2_positive'] == True) & (final_tracks['channel1_positive'] == True)]\n",
    "all_positive_tracks_list = all_positive_tracks_df['track_id'].values\n",
    "track_3 = track_df[track_df['track_id'].isin(all_positive_tracks_list)]\n",
    "viewer.add_tracks(track_3[[\"track_id\", \"frame\",\"c3_mu_z\", \"c3_mu_y\", \"c3_mu_x\"]], name = 'all+ tracks')"
   ]
  },
  {
   "cell_type": "code",
   "execution_count": 78,
   "id": "4ea2b818-5720-4fd5-9c89-00e029243988",
   "metadata": {},
   "outputs": [],
   "source": [
    "#Displaying basal tracks \n",
    "if membrane_regions_exist == True: \n",
    "    basal_tracks_df = final_tracks[final_tracks['membrane_region'] == 'Basal']\n",
    "    basal_tracks_list = basal_tracks_df['track_id'].values\n",
    "    track_4 = track_df[track_df['track_id'].isin(basal_tracks_list)]\n",
    "    viewer.add_tracks(track_4[[\"track_id\", \"frame\",\"c3_mu_z\", \"c3_mu_y\", \"c3_mu_x\"]], name = 'basal tracks')"
   ]
  },
  {
   "cell_type": "code",
   "execution_count": 79,
   "id": "44aae7c0-40b0-4914-a762-9b27bfd39af5",
   "metadata": {},
   "outputs": [],
   "source": [
    "#Displaying lateral tracks \n",
    "if membrane_regions_exist == True:\n",
    "    lateral_tracks_df = final_tracks[final_tracks['membrane_region'] == 'Lateral']\n",
    "    lateral_tracks_list = lateral_tracks_df['track_id'].values\n",
    "    track_5 = track_df[track_df['track_id'].isin(lateral_tracks_list)]\n",
    "    viewer.add_tracks(track_5[[\"track_id\", \"frame\", \"c3_mu_z\", \"c3_mu_y\", \"c3_mu_x\"]], name = 'Lateral tracks')"
   ]
  },
  {
   "cell_type": "code",
   "execution_count": 80,
   "id": "76d99053-b93e-470a-8749-b4684bd40c51",
   "metadata": {},
   "outputs": [],
   "source": [
    "#Displaying apical tracks \n",
    "if membrane_regions_exist == True:\n",
    "    apical_tracks_df = final_tracks[final_tracks['membrane_region'] == 'Apical']\n",
    "    apical_tracks_list = apical_tracks_df['track_id'].values\n",
    "    track_6 = track_df[track_df['track_id'].isin(apical_tracks_list)]\n",
    "    viewer.add_tracks(track_6[[\"track_id\", \"frame\",\"c3_mu_z\", \"c3_mu_y\", \"c3_mu_x\"]], name = 'Apical tracks')"
   ]
  },
  {
   "cell_type": "code",
   "execution_count": 107,
   "id": "51422285",
   "metadata": {},
   "outputs": [],
   "source": [
    "final_tracks.to_pickle(output_directory_full)"
   ]
  },
  {
   "cell_type": "markdown",
   "id": "cb27befc-b298-4b91-9feb-49b84a9d852e",
   "metadata": {},
   "source": [
    "### final_tracks dataframe stores tracks which are at least clathrin positive."
   ]
  },
  {
   "cell_type": "markdown",
   "id": "ea894221",
   "metadata": {},
   "source": [
    "# Once you have performed this step and have filtered tracks ready you can now use the dashboard to test performance of the pipeline and access visualisations. \n",
    "\n",
    "# Go to multipage_dashboard and run app.py "
   ]
  }
 ],
 "metadata": {
  "kernelspec": {
   "display_name": "Python 3 (ipykernel)",
   "language": "python",
   "name": "python3"
  },
  "language_info": {
   "codemirror_mode": {
    "name": "ipython",
    "version": 3
   },
   "file_extension": ".py",
   "mimetype": "text/x-python",
   "name": "python",
   "nbconvert_exporter": "python",
   "pygments_lexer": "ipython3",
   "version": "3.10.0"
  }
 },
 "nbformat": 4,
 "nbformat_minor": 5
}
