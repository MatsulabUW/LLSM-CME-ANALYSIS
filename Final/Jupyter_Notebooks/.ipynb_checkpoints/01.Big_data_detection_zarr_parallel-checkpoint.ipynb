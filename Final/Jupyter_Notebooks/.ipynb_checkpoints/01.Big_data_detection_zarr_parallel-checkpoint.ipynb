{
 "cells": [
  {
   "cell_type": "markdown",
   "id": "7699bd06-dc64-4aee-8802-d99882165dd1",
   "metadata": {},
   "source": [
    "# This is the first step in the pipeline\n",
    "### Spots are detected in this notebook. The input file is expected to be in the zarr format "
   ]
  },
  {
   "cell_type": "code",
   "execution_count": 1,
   "id": "62a4feae-de71-474c-a3b1-9d442d2a2fe6",
   "metadata": {},
   "outputs": [],
   "source": [
    "import pandas as pd\n",
    "import time\n",
    "import os\n",
    "import sys\n",
    "import zarr\n",
    "import napari \n",
    "import dask.array as da \n",
    "\n",
    "pythonPackagePath = os.path.abspath('../src/')\n",
    "sys.path.append(pythonPackagePath)\n",
    "from parallel import Detector\n",
    "from gaussian_visualization import visualize_3D_gaussians"
   ]
  },
  {
   "cell_type": "markdown",
   "id": "9ebdcb7e-0da4-4aee-a372-e2128ce2cfae",
   "metadata": {},
   "source": [
    "### Do not change the code in cell below "
   ]
  },
  {
   "cell_type": "code",
   "execution_count": 2,
   "id": "5690e846-bfa8-46ae-947f-64b537f09bc9",
   "metadata": {},
   "outputs": [],
   "source": [
    "# This assumes that your notebook is inside 'Jupyter Notebooks', which is at the same level as 'test_data'\n",
    "base_dir = os.path.join(os.path.dirname(os.path.abspath(\"__file__\")), '..', 'movie_data')\n",
    "# base_dir = os.path.join(os.path.dirname(os.path.abspath(\"__file__\")), '..', 'test_movie_1')\n",
    "\n",
    "zarr_directory = 'zarr_file/all_channels_data'\n",
    "zarr_full_path = os.path.join(base_dir, zarr_directory)\n",
    "\n",
    "save_directory = 'datasets'\n",
    "save_directory_full = os.path.join(base_dir, save_directory)"
   ]
  },
  {
   "cell_type": "markdown",
   "id": "b4fa8f87",
   "metadata": {},
   "source": [
    "## Follow the Instructions below to run through the notebook properly \n",
    "\n",
    "This notebook detects spots on your movie. The movie should be a zarr object; if it's not, run Final/Data Preparation/full_movie_to_zarr.ipynb\n",
    "\n",
    "**Parameters to adjust below** \n",
    "\n",
    "* **channel_to_detect**: Which channel will be tracked? This should be the channel with the longest tracks (i.e. AP2). Options are channel 1, 2, or 3.\n",
    "\n",
    "* **threshold_intensity**: What intensity value distinguishes background from signal? Open up a frame of the movie in Fiji or napari (at the end of this notebook) and mouse over different pixels to figure out this threshold value.\n",
    "\n",
    "* **all_frames**: When initially optimizing, set this to false and set number_frames_to_detect to 2, in order to run detection on only two time points. This will speed up diagnosing detection quality at the end of the notebook.\n",
    "\n",
    "Additional parameters for optimization:\n",
    "\n",
    "* **dist_between_spots**: this distance divided by 2 is the minimum distance that should exist between spots in pixels. For example if you set this to 10 then all spots within 5 pixels of the center of your spot will not be detected. \n",
    "* **sigma_estimations**: The expected radius of our spots, in pixels, as [spread_in_z, spread_in_y, spread_in_x]. You can measure the width of a spot in Fiji and divide by two.\n",
    "* **n_jobs**: The number of CPUs to use for detections. You can set it to -1 and it will use all of your machine's CPUs but one for processing. \n",
    "\n",
    "* **number_frames_to_detect**: the number of frames to process. This can be useful when you just want to test your parameters selected for the Detector object like spot_intensity, dist_between_spots and sigma_estimates. \n",
    "\n"
   ]
  },
  {
   "cell_type": "markdown",
   "id": "42ec841e",
   "metadata": {},
   "source": [
    "## Set all parameters in the below cell "
   ]
  },
  {
   "cell_type": "code",
   "execution_count": 3,
   "id": "39e1565c",
   "metadata": {},
   "outputs": [],
   "source": [
    "#refer to the above cell for explanation of each parameter \n",
    "channel_to_detect = 3 \n",
    "threshold_intensity = 150\n",
    "all_frames = True\n",
    "\n",
    "dist_between_spots = 6\n",
    "sigma_estimations = [4,2,2]\n",
    "n_jobs = -1\n",
    "number_frames_to_detect = 50 "
   ]
  },
  {
   "cell_type": "code",
   "execution_count": 4,
   "id": "2f8dc259-df31-401a-abd5-20a1e9c4e9a2",
   "metadata": {},
   "outputs": [
    {
     "name": "stdout",
     "output_type": "stream",
     "text": [
      "the number of frames are 106\n"
     ]
    },
    {
     "data": {
      "text/html": [
       "<table class=\"zarr-info\"><tbody><tr><th style=\"text-align: left\">Type</th><td style=\"text-align: left\">zarr.core.Array</td></tr><tr><th style=\"text-align: left\">Data type</th><td style=\"text-align: left\">uint16</td></tr><tr><th style=\"text-align: left\">Shape</th><td style=\"text-align: left\">(106, 3, 50, 615, 303)</td></tr><tr><th style=\"text-align: left\">Chunk shape</th><td style=\"text-align: left\">(1, 1, 50, 615, 303)</td></tr><tr><th style=\"text-align: left\">Order</th><td style=\"text-align: left\">C</td></tr><tr><th style=\"text-align: left\">Read-only</th><td style=\"text-align: left\">True</td></tr><tr><th style=\"text-align: left\">Compressor</th><td style=\"text-align: left\">Blosc(cname='lz4', clevel=5, shuffle=SHUFFLE, blocksize=0)</td></tr><tr><th style=\"text-align: left\">Store type</th><td style=\"text-align: left\">zarr.storage.DirectoryStore</td></tr><tr><th style=\"text-align: left\">No. bytes</th><td style=\"text-align: left\">5925771000 (5.5G)</td></tr><tr><th style=\"text-align: left\">No. bytes stored</th><td style=\"text-align: left\">1186240204 (1.1G)</td></tr><tr><th style=\"text-align: left\">Storage ratio</th><td style=\"text-align: left\">5.0</td></tr><tr><th style=\"text-align: left\">Chunks initialized</th><td style=\"text-align: left\">318/318</td></tr></tbody></table>"
      ],
      "text/plain": [
       "Type               : zarr.core.Array\n",
       "Data type          : uint16\n",
       "Shape              : (106, 3, 50, 615, 303)\n",
       "Chunk shape        : (1, 1, 50, 615, 303)\n",
       "Order              : C\n",
       "Read-only          : True\n",
       "Compressor         : Blosc(cname='lz4', clevel=5, shuffle=SHUFFLE, blocksize=0)\n",
       "Store type         : zarr.storage.DirectoryStore\n",
       "No. bytes          : 5925771000 (5.5G)\n",
       "No. bytes stored   : 1186240204 (1.1G)\n",
       "Storage ratio      : 5.0\n",
       "Chunks initialized : 318/318"
      ]
     },
     "execution_count": 4,
     "metadata": {},
     "output_type": "execute_result"
    }
   ],
   "source": [
    "#Import the zarr file by adding file path in read mode\n",
    "z2 = zarr.open(zarr_full_path, mode='r')\n",
    "frames = z2.shape[0]\n",
    "print(f'the number of frames are {frames}')\n",
    "z2.info"
   ]
  },
  {
   "cell_type": "markdown",
   "id": "48e9983d-8633-46d7-a59a-7885c93fbd1b",
   "metadata": {},
   "source": [
    "## In the below cell Detector object is initilized to perform detection. More details on the Detector object can be attained by the following line of code: \n",
    "**copy and paste in a new cell**\n",
    "\n",
    "?Detector"
   ]
  },
  {
   "cell_type": "code",
   "execution_count": 5,
   "id": "f9a03bc8-4326-4fb0-87c0-d3af7eb67e2f",
   "metadata": {},
   "outputs": [],
   "source": [
    "detector = Detector(zarr_obj = z2, \n",
    "                    save_directory = save_directory_full, \n",
    "                    spot_intensity = threshold_intensity, \n",
    "                    dist_between_spots = dist_between_spots, \n",
    "                    sigma_estimations = sigma_estimations, n_jobs = n_jobs, channel_to_detect = channel_to_detect)"
   ]
  },
  {
   "cell_type": "code",
   "execution_count": 6,
   "id": "9763ea65-4a6c-4061-8e42-29e84012bfb7",
   "metadata": {},
   "outputs": [
    {
     "name": "stderr",
     "output_type": "stream",
     "text": [
      "Processing frames: 100%|██████████████████████| 106/106 [02:14<00:00,  1.27s/it]\n"
     ]
    },
    {
     "name": "stdout",
     "output_type": "stream",
     "text": [
      "the number of times the gaussian fitting worked was 2232 and the number of times the gaussian did not fit was 0\n",
      "the number of times the gaussian fitting worked was 2291 and the number of times the gaussian did not fit was 2\n",
      "the number of times the gaussian fitting worked was 2313 and the number of times the gaussian did not fit was 2\n",
      "the number of times the gaussian fitting worked was 2440 and the number of times the gaussian did not fit was 1\n",
      "the number of times the gaussian fitting worked was 2395 and the number of times the gaussian did not fit was 3\n",
      "the number of times the gaussian fitting worked was 2409 and the number of times the gaussian did not fit was 4\n",
      "the number of times the gaussian fitting worked was 2439 and the number of times the gaussian did not fit was 2\n",
      "the number of times the gaussian fitting worked was 2433 and the number of times the gaussian did not fit was 1\n",
      "the number of times the gaussian fitting worked was 2429 and the number of times the gaussian did not fit was 1\n",
      "the number of times the gaussian fitting worked was 2127 and the number of times the gaussian did not fit was 1\n",
      "the number of times the gaussian fitting worked was 2297 and the number of times the gaussian did not fit was 1\n",
      "the number of times the gaussian fitting worked was 2305 and the number of times the gaussian did not fit was 2\n",
      "the number of times the gaussian fitting worked was 2414 and the number of times the gaussian did not fit was 2\n",
      "the number of times the gaussian fitting worked was 2401 and the number of times the gaussian did not fit was 2\n",
      "the number of times the gaussian fitting worked was 2368 and the number of times the gaussian did not fit was 4\n",
      "the number of times the gaussian fitting worked was 2382 and the number of times the gaussian did not fit was 1\n",
      "the number of times the gaussian fitting worked was 2473 and the number of times the gaussian did not fit was 2\n",
      "the number of times the gaussian fitting worked was 2360 and the number of times the gaussian did not fit was 2\n",
      "the number of times the gaussian fitting worked was 2163 and the number of times the gaussian did not fit was 0\n",
      "the number of times the gaussian fitting worked was 2325 and the number of times the gaussian did not fit was 1\n",
      "the number of times the gaussian fitting worked was 2292 and the number of times the gaussian did not fit was 3\n",
      "the number of times the gaussian fitting worked was 2408 and the number of times the gaussian did not fit was 0\n",
      "the number of times the gaussian fitting worked was 2405 and the number of times the gaussian did not fit was 2\n",
      "the number of times the gaussian fitting worked was 2385 and the number of times the gaussian did not fit was 5\n",
      "the number of times the gaussian fitting worked was 2341 and the number of times the gaussian did not fit was 2\n",
      "the number of times the gaussian fitting worked was 2421 and the number of times the gaussian did not fit was 2\n",
      "the number of times the gaussian fitting worked was 2506 and the number of times the gaussian did not fit was 2\n",
      "the number of times the gaussian fitting worked was 2218 and the number of times the gaussian did not fit was 1\n",
      "the number of times the gaussian fitting worked was 2247 and the number of times the gaussian did not fit was 6\n",
      "the number of times the gaussian fitting worked was 2299 and the number of times the gaussian did not fit was 2\n",
      "the number of times the gaussian fitting worked was 2398 and the number of times the gaussian did not fit was 0\n",
      "the number of times the gaussian fitting worked was 2396 and the number of times the gaussian did not fit was 1\n",
      "the number of times the gaussian fitting worked was 2340 and the number of times the gaussian did not fit was 4\n",
      "the number of times the gaussian fitting worked was 2365 and the number of times the gaussian did not fit was 2\n",
      "the number of times the gaussian fitting worked was 2426 and the number of times the gaussian did not fit was 3\n",
      "the number of times the gaussian fitting worked was 2512 and the number of times the gaussian did not fit was 0\n",
      "the number of times the gaussian fitting worked was 2158 and the number of times the gaussian did not fit was 0\n",
      "the number of times the gaussian fitting worked was 2248 and the number of times the gaussian did not fit was 0\n",
      "the number of times the gaussian fitting worked was 2320 and the number of times the gaussian did not fit was 1\n",
      "the number of times the gaussian fitting worked was 2331 and the number of times the gaussian did not fit was 3\n",
      "the number of times the gaussian fitting worked was 2348 and the number of times the gaussian did not fit was 1\n",
      "the number of times the gaussian fitting worked was 2333 and the number of times the gaussian did not fit was 3\n",
      "the number of times the gaussian fitting worked was 2370 and the number of times the gaussian did not fit was 3\n",
      "the number of times the gaussian fitting worked was 2357 and the number of times the gaussian did not fit was 2\n",
      "the number of times the gaussian fitting worked was 2357 and the number of times the gaussian did not fit was 1\n",
      "the number of times the gaussian fitting worked was 2436 and the number of times the gaussian did not fit was 3\n",
      "the number of times the gaussian fitting worked was 2126 and the number of times the gaussian did not fit was 1\n",
      "the number of times the gaussian fitting worked was 2297 and the number of times the gaussian did not fit was 0\n",
      "the number of times the gaussian fitting worked was 2312 and the number of times the gaussian did not fit was 3\n",
      "the number of times the gaussian fitting worked was 2302 and the number of times the gaussian did not fit was 2\n",
      "the number of times the gaussian fitting worked was 2404 and the number of times the gaussian did not fit was 1\n",
      "the number of times the gaussian fitting worked was 2423 and the number of times the gaussian did not fit was 3\n",
      "the number of times the gaussian fitting worked was 2404 and the number of times the gaussian did not fit was 3\n",
      "the number of times the gaussian fitting worked was 2377 and the number of times the gaussian did not fit was 3\n",
      "the number of times the gaussian fitting worked was 2416 and the number of times the gaussian did not fit was 3\n",
      "the number of times the gaussian fitting worked was 2429 and the number of times the gaussian did not fit was 2\n",
      "the number of times the gaussian fitting worked was 2177 and the number of times the gaussian did not fit was 0\n",
      "the number of times the gaussian fitting worked was 2222 and the number of times the gaussian did not fit was 2\n",
      "the number of times the gaussian fitting worked was 2333 and the number of times the gaussian did not fit was 3\n",
      "the number of times the gaussian fitting worked was 2437 and the number of times the gaussian did not fit was 1\n",
      "the number of times the gaussian fitting worked was 2403 and the number of times the gaussian did not fit was 4\n",
      "the number of times the gaussian fitting worked was 2390 and the number of times the gaussian did not fit was 5\n",
      "the number of times the gaussian fitting worked was 2339 and the number of times the gaussian did not fit was 2\n",
      "the number of times the gaussian fitting worked was 2394 and the number of times the gaussian did not fit was 1\n",
      "the number of times the gaussian fitting worked was 2419 and the number of times the gaussian did not fit was 0\n",
      "the number of times the gaussian fitting worked was 2437 and the number of times the gaussian did not fit was 2\n",
      "the number of times the gaussian fitting worked was 2241 and the number of times the gaussian did not fit was 1\n",
      "the number of times the gaussian fitting worked was 2247 and the number of times the gaussian did not fit was 4\n",
      "the number of times the gaussian fitting worked was 2301 and the number of times the gaussian did not fit was 3\n",
      "the number of times the gaussian fitting worked was 2375 and the number of times the gaussian did not fit was 1\n",
      "the number of times the gaussian fitting worked was 2369 and the number of times the gaussian did not fit was 2\n",
      "the number of times the gaussian fitting worked was 2377 and the number of times the gaussian did not fit was 5\n",
      "the number of times the gaussian fitting worked was 2388 and the number of times the gaussian did not fit was 3\n",
      "the number of times the gaussian fitting worked was 2428 and the number of times the gaussian did not fit was 4\n",
      "the number of times the gaussian fitting worked was 2495 and the number of times the gaussian did not fit was 1\n",
      "the number of times the gaussian fitting worked was 2412 and the number of times the gaussian did not fit was 1\n",
      "the number of times the gaussian fitting worked was 2206 and the number of times the gaussian did not fit was 0\n",
      "the number of times the gaussian fitting worked was 2213 and the number of times the gaussian did not fit was 5\n",
      "the number of times the gaussian fitting worked was 2341 and the number of times the gaussian did not fit was 1\n",
      "the number of times the gaussian fitting worked was 2434 and the number of times the gaussian did not fit was 1\n",
      "the number of times the gaussian fitting worked was 2369 and the number of times the gaussian did not fit was 4\n",
      "the number of times the gaussian fitting worked was 2370 and the number of times the gaussian did not fit was 4\n",
      "the number of times the gaussian fitting worked was 2393 and the number of times the gaussian did not fit was 1\n",
      "the number of times the gaussian fitting worked was 2353 and the number of times the gaussian did not fit was 2\n",
      "the number of times the gaussian fitting worked was 2405 and the number of times the gaussian did not fit was 3\n",
      "the number of times the gaussian fitting worked was 2424 and the number of times the gaussian did not fit was 0\n",
      "the number of times the gaussian fitting worked was 2276 and the number of times the gaussian did not fit was 0\n",
      "the number of times the gaussian fitting worked was 2292 and the number of times the gaussian did not fit was 2\n",
      "the number of times the gaussian fitting worked was 2347 and the number of times the gaussian did not fit was 0\n",
      "the number of times the gaussian fitting worked was 2440 and the number of times the gaussian did not fit was 3\n",
      "the number of times the gaussian fitting worked was 2367 and the number of times the gaussian did not fit was 2\n",
      "the number of times the gaussian fitting worked was 2377 and the number of times the gaussian did not fit was 4\n",
      "the number of times the gaussian fitting worked was 2401 and the number of times the gaussian did not fit was 1\n",
      "the number of times the gaussian fitting worked was 2456 and the number of times the gaussian did not fit was 2\n",
      "the number of times the gaussian fitting worked was 2370 and the number of times the gaussian did not fit was 2\n",
      "the number of times the gaussian fitting worked was 2429 and the number of times the gaussian did not fit was 3\n",
      "the number of times the gaussian fitting worked was 2190 and the number of times the gaussian did not fit was 1\n",
      "the number of times the gaussian fitting worked was 2316 and the number of times the gaussian did not fit was 5\n",
      "the number of times the gaussian fitting worked was 2343 and the number of times the gaussian did not fit was 1\n",
      "the number of times the gaussian fitting worked was 2395 and the number of times the gaussian did not fit was 1\n",
      "the number of times the gaussian fitting worked was 2356 and the number of times the gaussian did not fit was 1\n",
      "the number of times the gaussian fitting worked was 2447 and the number of times the gaussian did not fit was 5\n",
      "the number of times the gaussian fitting worked was 2353 and the number of times the gaussian did not fit was 0\n",
      "the number of times the gaussian fitting worked was 2436 and the number of times the gaussian did not fit was 3\n",
      "the number of times the gaussian fitting worked was 2443 and the number of times the gaussian did not fit was 1\n",
      "the number of times the gaussian fitting worked was 2393 and the number of times the gaussian did not fit was 1\n"
     ]
    }
   ],
   "source": [
    "#the following function returns the dataframe and also saves it to the provided path in pkl format\n",
    "#set all_frames = True, to process all the time frames \n",
    "#max_frames is useful when you just want to perform detection on a subset of frames. \n",
    "#Note: when all_frames= True then max_frames is ignored \n",
    "df = detector.run_parallel_frame_processing(max_frames = number_frames_to_detect, all_frames = all_frames)"
   ]
  },
  {
   "cell_type": "markdown",
   "id": "e2fb5443-0c8f-41f3-9464-ba14e2bbf75c",
   "metadata": {},
   "source": [
    "# Visualising the Output\n",
    "## Labels are only for time frame 0, for all z slices "
   ]
  },
  {
   "cell_type": "markdown",
   "id": "4df6b924",
   "metadata": {},
   "source": [
    "## Below you can see detected spots as masks on the original image and can adjust detection parameters if you think spots are not detected correctly \n",
    "\n",
    "### Once you are in the napari viewer you should adjust the contrast and the opacity to make sure both the masks and the raw movie is visible properly.  "
   ]
  },
  {
   "cell_type": "code",
   "execution_count": 7,
   "id": "569b7ad6",
   "metadata": {},
   "outputs": [
    {
     "data": {
      "text/html": [
       "<table class=\"zarr-info\"><tbody><tr><th style=\"text-align: left\">Type</th><td style=\"text-align: left\">zarr.core.Array</td></tr><tr><th style=\"text-align: left\">Data type</th><td style=\"text-align: left\">uint16</td></tr><tr><th style=\"text-align: left\">Shape</th><td style=\"text-align: left\">(106, 3, 50, 615, 303)</td></tr><tr><th style=\"text-align: left\">Chunk shape</th><td style=\"text-align: left\">(1, 1, 50, 615, 303)</td></tr><tr><th style=\"text-align: left\">Order</th><td style=\"text-align: left\">C</td></tr><tr><th style=\"text-align: left\">Read-only</th><td style=\"text-align: left\">True</td></tr><tr><th style=\"text-align: left\">Compressor</th><td style=\"text-align: left\">Blosc(cname='lz4', clevel=5, shuffle=SHUFFLE, blocksize=0)</td></tr><tr><th style=\"text-align: left\">Store type</th><td style=\"text-align: left\">zarr.storage.DirectoryStore</td></tr><tr><th style=\"text-align: left\">No. bytes</th><td style=\"text-align: left\">5925771000 (5.5G)</td></tr><tr><th style=\"text-align: left\">No. bytes stored</th><td style=\"text-align: left\">1186240204 (1.1G)</td></tr><tr><th style=\"text-align: left\">Storage ratio</th><td style=\"text-align: left\">5.0</td></tr><tr><th style=\"text-align: left\">Chunks initialized</th><td style=\"text-align: left\">318/318</td></tr></tbody></table>"
      ],
      "text/plain": [
       "Type               : zarr.core.Array\n",
       "Data type          : uint16\n",
       "Shape              : (106, 3, 50, 615, 303)\n",
       "Chunk shape        : (1, 1, 50, 615, 303)\n",
       "Order              : C\n",
       "Read-only          : True\n",
       "Compressor         : Blosc(cname='lz4', clevel=5, shuffle=SHUFFLE, blocksize=0)\n",
       "Store type         : zarr.storage.DirectoryStore\n",
       "No. bytes          : 5925771000 (5.5G)\n",
       "No. bytes stored   : 1186240204 (1.1G)\n",
       "Storage ratio      : 5.0\n",
       "Chunks initialized : 318/318"
      ]
     },
     "execution_count": 7,
     "metadata": {},
     "output_type": "execute_result"
    }
   ],
   "source": [
    "z2.info"
   ]
  },
  {
   "cell_type": "code",
   "execution_count": 8,
   "id": "efe3f21c",
   "metadata": {},
   "outputs": [],
   "source": [
    "# Make a mask of the first time point of the detections\n",
    "\n",
    "masks = visualize_3D_gaussians(zarr_obj = z2, gaussians_df = df[df['frame'] == 0])\n",
    "# masks = visualize_3D_gaussians(zarr_obj = z2, gaussians_df = df)\n",
    "\n",
    "# Create a napari viewer\n",
    "viewer = napari.Viewer()\n",
    "\n",
    "#open the zarr file in read mode\n",
    "dask_array = da.from_zarr(z2)\n",
    "\n",
    "# first time point of the zarr file and the channel to detect\n",
    "#the axis arrangement is (t,c,z,y,x)\n",
    "\n",
    "dask_array_slice = dask_array[0,channel_to_detect-1,:,:,:]\n",
    "\n",
    "# Add the 3D stack to the viewer\n",
    "layer_raw = viewer.add_image(dask_array_slice, name='fluorescence', interpolation3d = 'nearest', blending = 'additive', colormap = 'magenta')\n",
    "\n",
    "# layer_mask = viewer.add_image(masks, name = 'detections mask')\n",
    "layer_mask = viewer.add_image(masks, name = 'detections', interpolation3d = 'nearest', blending = 'additive', colormap = 'green')\n",
    "\n",
    "#other useful parameters \n",
    "#color_map = list\n",
    "#contrast_limits = list of list \n",
    "\n",
    "# Add Bounding Box\n",
    "layer_raw.bounding_box.visible = True\n"
   ]
  },
  {
   "cell_type": "markdown",
   "id": "f0113030",
   "metadata": {},
   "source": [
    "If the detections don't line up well with the spots in the image:\n",
    "* mouse over the spots in napari to get a sense for the intensity of the spots vs background - use the threshold distinguishing spots from background as threshold_intensity \n",
    "* vary the dist_between_spots: if the detections are at a higher density than the visible spots, increase the dist_between_spots. And vice versa, if you see spots at a higher density than detections, lower the dist_between_spots.\n",
    "* If the detections are missing larger or smaller spots you can try increasing or decreasing the sigma_estimations. \n",
    "If you see elongated detections, these will be filtered out in the next notebook."
   ]
  },
  {
   "cell_type": "markdown",
   "id": "2c08adc4",
   "metadata": {},
   "source": [
    "# move to 02.filtering_spots for next steps "
   ]
  }
 ],
 "metadata": {
  "kernelspec": {
   "display_name": "Python 3 (ipykernel)",
   "language": "python",
   "name": "python3"
  },
  "language_info": {
   "codemirror_mode": {
    "name": "ipython",
    "version": 3
   },
   "file_extension": ".py",
   "mimetype": "text/x-python",
   "name": "python",
   "nbconvert_exporter": "python",
   "pygments_lexer": "ipython3",
   "version": "3.12.3"
  }
 },
 "nbformat": 4,
 "nbformat_minor": 5
}
